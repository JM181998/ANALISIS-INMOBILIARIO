{
 "cells": [
  {
   "cell_type": "code",
   "execution_count": 3,
   "metadata": {},
   "outputs": [],
   "source": [
    "import mysql.connector\n",
    "#import cursor\n",
    "import pandas as pd\n",
    "from sqlalchemy import create_engine        #para cargar las tablas de mysql"
   ]
  },
  {
   "cell_type": "code",
   "execution_count": 4,
   "metadata": {},
   "outputs": [],
   "source": [
    "df_alquileres = pd.read_csv('alquileres_completo_limpio.csv')\n",
    "df_compras = pd.read_csv('compras_completo_limpio.csv', low_memory=False)"
   ]
  },
  {
   "cell_type": "code",
   "execution_count": null,
   "metadata": {},
   "outputs": [],
   "source": [
    "#quito el mapeo de nuevo orden de variables y de mapa_ccaa porque ya está incluido en el csv\n",
    "#quitamos también el mapeo de ccaa"
   ]
  },
  {
   "cell_type": "code",
   "execution_count": null,
   "metadata": {},
   "outputs": [],
   "source": [
    "df_alquileres.dtypes.items()"
   ]
  },
  {
   "cell_type": "markdown",
   "metadata": {},
   "source": [
    "## NO EJECUTAR - Generar el esquema SQL - Mapeo de tipo de datos en MySQL - OPCIÓN 1"
   ]
  },
  {
   "cell_type": "code",
   "execution_count": null,
   "metadata": {},
   "outputs": [],
   "source": [
    "#este código es más extensible pero a la vez flexible por si se quieren añadir más tipo de variables"
   ]
  },
  {
   "cell_type": "code",
   "execution_count": null,
   "metadata": {},
   "outputs": [],
   "source": [
    "#mapeo de tipos de datos de pandas a MySQL\n",
    "\n",
    "dtype_mapping = {\n",
    "    'int64': 'INT',\n",
    "    'float64': 'FLOAT',\n",
    "    'object': 'VARCHAR(255)',\n",
    "    'bool': 'BOOLEAN',\n",
    "    'datetime64': 'DATETIME'\n",
    "}\n",
    "\n",
    "#función para generar la estructura SQL\n",
    "\n",
    "def generate_mysql_schema(df, table_name):\n",
    "    sql = f'CREATE TABLE {table_name} (\\n'\n",
    "\n",
    "    for col, dtype in df.dtypes.items():             #dtypes: cada tipo de dato de las variables\n",
    "        mysql_type = dtype_mapping.get(str(dtype), 'TEXT')\n",
    "        sql += f\"    `{col}` {mysql_type},\\n\"\n",
    "\n",
    "    sql = sql.rstrip(',\\n') + '\\n);'\n",
    "    return sql\n",
    "\n",
    "#generar el código SQL (este es el que se introduce en sql_schema)\n",
    "sql_alquileres = generate_mysql_schema(df_alquileres, 'general_alquileres')\n",
    "sql_compras = generate_mysql_schema(df_compras, 'general_compras')\n",
    "\n",
    "#los guardamos en un archivo mysql porque no se puede leer completo (truncado)\n",
    "with open('general_alquileres_mysql.sql', 'w') as f:\n",
    "    f.write(sql_alquileres)\n",
    "\n",
    "with open('general_compras_mysql.sql', 'w') as f:\n",
    "    f.write(sql_compras)\n",
    "\n",
    "print('Esquemas generados y guardados exitosamente')\n"
   ]
  },
  {
   "cell_type": "code",
   "execution_count": null,
   "metadata": {},
   "outputs": [],
   "source": [
    "print(f'Columnas en alquileres: {df_alquileres.columns.tolist()}')\n",
    "print(f'Columnas en compras: {df_compras.columns.tolist()}')"
   ]
  },
  {
   "cell_type": "markdown",
   "metadata": {},
   "source": [
    "## Generar el esquema SQL automáticamente - OPCIÓN 2\n"
   ]
  },
  {
   "cell_type": "code",
   "execution_count": null,
   "metadata": {},
   "outputs": [],
   "source": [
    "#este código es más conciso y útil para mapear tipos básicos"
   ]
  },
  {
   "cell_type": "code",
   "execution_count": 5,
   "metadata": {},
   "outputs": [
    {
     "name": "stdout",
     "output_type": "stream",
     "text": [
      "CREATE TABLE general_alquileres (\n",
      "    `identificador` VARCHAR(255),\n",
      "    `nombre` VARCHAR(255),\n",
      "    `href` VARCHAR(255),\n",
      "    `agencia` VARCHAR(255),\n",
      "    `area` VARCHAR(255),\n",
      "    `provincia` VARCHAR(255),\n",
      "    `comunidad_autonoma` VARCHAR(255),\n",
      "    `coordenadas` VARCHAR(255),\n",
      "    `tipo_de_casa` VARCHAR(255),\n",
      "    `planta` INT,\n",
      "    `orientacion` VARCHAR(255),\n",
      "    `precio` FLOAT,\n",
      "    `precio_m2` FLOAT,\n",
      "    `gastos_de_comunidad` VARCHAR(255),\n",
      "    `antiguedad` VARCHAR(255),\n",
      "    `conservacion` VARCHAR(255),\n",
      "    `telefono` VARCHAR(255),\n",
      "    `actualizacion` VARCHAR(255),\n",
      "    `timestamp` VARCHAR(255),\n",
      "    `superficie` FLOAT,\n",
      "    `superficie_util` FLOAT,\n",
      "    `superficie_construida` FLOAT,\n",
      "    `habitaciones` INT,\n",
      "    `baños` INT,\n",
      "    `comedor` VARCHAR(255),\n",
      "    `cocina_equipada` VARCHAR(255),\n",
      "    `amueblado` VARCHAR(255),\n",
      "    `lavadero` VARCHAR(255),\n",
      "    `balcon` VARCHAR(255),\n",
      "    `terraza` VARCHAR(255),\n",
      "    `trastero` VARCHAR(255),\n",
      "    `garaje` VARCHAR(255),\n",
      "    `piscina` VARCHAR(255),\n",
      "    `chimenea` VARCHAR(255),\n",
      "    `jardin` VARCHAR(255),\n",
      "    `exterior` VARCHAR(255),\n",
      "    `carpinteria_interior` VARCHAR(255),\n",
      "    `carpinteria_exterior` VARCHAR(255),\n",
      "    `tipo_suelo` VARCHAR(255),\n",
      "    `puerta_blindada` VARCHAR(255),\n",
      "    `armarios_empotrados` VARCHAR(255),\n",
      "    `luz` VARCHAR(255),\n",
      "    `agua` VARCHAR(255),\n",
      "    `gas` VARCHAR(255),\n",
      "    `calefaccion` VARCHAR(255),\n",
      "    `aire_acondicionado` VARCHAR(255),\n",
      "    `sistema_de_seguridad` VARCHAR(255),\n",
      "    `ascensor` VARCHAR(255),\n",
      "    `portero_automatico` VARCHAR(255),\n",
      "    `se_aceptan_mascotas` VARCHAR(255),\n",
      "    `zona_comunitaria` VARCHAR(255),\n",
      "    `sala_comunitaria` VARCHAR(255),\n",
      "    `adaptado_a_personas_con_movilidad_reducida` VARCHAR(255),\n",
      "    `zona_de_juegos_infantiles` VARCHAR(255),\n",
      "    `cuarto_de_bicicletas` VARCHAR(255),\n",
      "    `calle_alumbrada` VARCHAR(255),\n",
      "    `alcantarillado` VARCHAR(255),\n",
      "    `instalaciones_deportivas` VARCHAR(255),\n",
      "    `certificado_energetico` VARCHAR(255),\n",
      "    `aerotermia` VARCHAR(255),\n",
      "    `vidrios_dobles` VARCHAR(255)\n",
      ");\n",
      "CREATE TABLE general_compras (\n",
      "    `identificador` VARCHAR(255),\n",
      "    `nombre` VARCHAR(255),\n",
      "    `href` VARCHAR(255),\n",
      "    `agencia` VARCHAR(255),\n",
      "    `area` VARCHAR(255),\n",
      "    `provincia` VARCHAR(255),\n",
      "    `comunidad_autonoma` VARCHAR(255),\n",
      "    `coordenadas` VARCHAR(255),\n",
      "    `tipo_de_casa` VARCHAR(255),\n",
      "    `planta` INT,\n",
      "    `orientacion` VARCHAR(255),\n",
      "    `precio` FLOAT,\n",
      "    `precio_m2` FLOAT,\n",
      "    `gastos_de_comunidad` VARCHAR(255),\n",
      "    `antiguedad` VARCHAR(255),\n",
      "    `conservacion` VARCHAR(255),\n",
      "    `telefono` VARCHAR(255),\n",
      "    `actualizacion` VARCHAR(255),\n",
      "    `timestamp` VARCHAR(255),\n",
      "    `superficie` FLOAT,\n",
      "    `superficie_util` FLOAT,\n",
      "    `superficie_construida` FLOAT,\n",
      "    `habitaciones` INT,\n",
      "    `baños` INT,\n",
      "    `comedor` VARCHAR(255),\n",
      "    `cocina_equipada` VARCHAR(255),\n",
      "    `amueblado` VARCHAR(255),\n",
      "    `lavadero` VARCHAR(255),\n",
      "    `balcon` VARCHAR(255),\n",
      "    `terraza` VARCHAR(255),\n",
      "    `trastero` VARCHAR(255),\n",
      "    `garaje` VARCHAR(255),\n",
      "    `piscina` VARCHAR(255),\n",
      "    `chimenea` VARCHAR(255),\n",
      "    `jardin` VARCHAR(255),\n",
      "    `exterior` VARCHAR(255),\n",
      "    `carpinteria_interior` VARCHAR(255),\n",
      "    `carpinteria_exterior` VARCHAR(255),\n",
      "    `tipo_suelo` VARCHAR(255),\n",
      "    `puerta_blindada` VARCHAR(255),\n",
      "    `armarios_empotrados` VARCHAR(255),\n",
      "    `luz` VARCHAR(255),\n",
      "    `agua` VARCHAR(255),\n",
      "    `gas` VARCHAR(255),\n",
      "    `calefaccion` VARCHAR(255),\n",
      "    `aire_acondicionado` VARCHAR(255),\n",
      "    `sistema_de_seguridad` VARCHAR(255),\n",
      "    `ascensor` VARCHAR(255),\n",
      "    `portero_automatico` VARCHAR(255),\n",
      "    `se_aceptan_mascotas` VARCHAR(255),\n",
      "    `zona_comunitaria` VARCHAR(255),\n",
      "    `sala_comunitaria` VARCHAR(255),\n",
      "    `adaptado_a_personas_con_movilidad_reducida` VARCHAR(255),\n",
      "    `zona_de_juegos_infantiles` VARCHAR(255),\n",
      "    `cuarto_de_bicicletas` VARCHAR(255),\n",
      "    `calle_alumbrada` VARCHAR(255),\n",
      "    `alcantarillado` VARCHAR(255),\n",
      "    `instalaciones_deportivas` VARCHAR(255),\n",
      "    `proximidad_a_la_playa` VARCHAR(255),\n",
      "    `en_construccion` VARCHAR(255),\n",
      "    `gastroteca` VARCHAR(255),\n",
      "    `certificado_energetico` VARCHAR(255),\n",
      "    `aerotermia` VARCHAR(255),\n",
      "    `vidrios_dobles` VARCHAR(255)\n",
      ");\n"
     ]
    },
    {
     "name": "stderr",
     "output_type": "stream",
     "text": [
      "/var/folders/p7/72yj56cn69576q6jyw_n0x580000gn/T/ipykernel_34664/1170781485.py:2: DeprecationWarning: is_int64_dtype is deprecated and will be removed in a future version. Use dtype == np.int64 instead.\n",
      "  if pd.api.types.is_int64_dtype(dtype):\n",
      "/var/folders/p7/72yj56cn69576q6jyw_n0x580000gn/T/ipykernel_34664/1170781485.py:2: DeprecationWarning: is_int64_dtype is deprecated and will be removed in a future version. Use dtype == np.int64 instead.\n",
      "  if pd.api.types.is_int64_dtype(dtype):\n"
     ]
    }
   ],
   "source": [
    "def inferir_tipo_sql(dtype):\n",
    "    if pd.api.types.is_int64_dtype(dtype):\n",
    "        return 'INT'\n",
    "    elif pd.api.types.is_float_dtype(dtype):\n",
    "        return 'FLOAT'\n",
    "    else:\n",
    "        return 'VARCHAR(255)'\n",
    "\n",
    "def generar_schema(tabla, df):\n",
    "    columnas = []\n",
    "    for col, dtype in zip(df.columns, df.dtypes):\n",
    "        tipo_sql = inferir_tipo_sql(dtype)\n",
    "        columnas.append(f'`{col}` {tipo_sql}')\n",
    "    return f'CREATE TABLE {tabla} (\\n    '+',\\n    '.join(columnas) + '\\n);'\n",
    "\n",
    "sql_schema_alquileres = generar_schema('general_alquileres', df_alquileres)\n",
    "sql_schema_compras = generar_schema('general_compras', df_compras)\n",
    "\n",
    "print(sql_schema_alquileres)\n",
    "print(sql_schema_compras)"
   ]
  },
  {
   "cell_type": "markdown",
   "metadata": {},
   "source": [
    "## Conexión a la base de datos y carga de datos desde csv a la tabla de mysql"
   ]
  },
  {
   "cell_type": "code",
   "execution_count": 4,
   "metadata": {},
   "outputs": [
    {
     "name": "stdout",
     "output_type": "stream",
     "text": [
      "Error: 1050 (42S01): Table 'general_alquileres' already exists\n"
     ]
    }
   ],
   "source": [
    "#parámetros de conexión\n",
    "connection = mysql.connector.connect(\n",
    "    host='localhost',\n",
    "    user='root',\n",
    "    password='password',\n",
    "    database='analisis_inmobiliario'\n",
    ")\n",
    "\n",
    "cursor = connection.cursor()\n",
    "\n",
    "try:\n",
    "    cursor.execute(sql_schema_alquileres)\n",
    "    print(\"Tabla general_alquileres creada exitosamente.\")\n",
    "\n",
    "    cursor.execute(sql_schema_compras)\n",
    "    print('Tabla general_compras creada exitosamente')\n",
    "\n",
    "    connection.commit()\n",
    "\n",
    "except mysql.connector.Error as err:\n",
    "    print(f'Error: {err}')\n",
    "\n",
    "cursor.close()\n",
    "connection.close()"
   ]
  },
  {
   "cell_type": "code",
   "execution_count": null,
   "metadata": {},
   "outputs": [],
   "source": [
    "print(df_alquileres.head())\n",
    "print(df_alquileres.dtypes)\n",
    "print(df_compras.head())\n",
    "print(df_compras.dtypes)"
   ]
  },
  {
   "cell_type": "markdown",
   "metadata": {},
   "source": [
    "## Insertar datos desde el CSV a las tablas"
   ]
  },
  {
   "cell_type": "code",
   "execution_count": 6,
   "metadata": {},
   "outputs": [
    {
     "name": "stdout",
     "output_type": "stream",
     "text": [
      "✅ 13483 registros insertados en 'general_alquileres'.\n",
      "✅ 192213 registros insertados en 'general_compras'.\n",
      "Conexión cerrada\n"
     ]
    }
   ],
   "source": [
    "connection = mysql.connector.connect(\n",
    "    host='localhost',\n",
    "    user='root',\n",
    "    password='password',\n",
    "    database='analisis_inmobiliario'\n",
    ")\n",
    "\n",
    "cursor = connection.cursor()\n",
    "\n",
    "def insertar_datos(tabla, df):\n",
    "    columnas = ', '.join([f\"`{col}`\" for col in df.columns])\n",
    "    valores = ', '.join(['%s'] * len(df.columns))\n",
    "    query = f\"INSERT INTO {tabla} ({columnas}) VALUES ({valores})\"\n",
    "\n",
    "    for _, row in df.iterrows():\n",
    "        try:\n",
    "            cursor.execute(query, tuple(row))\n",
    "        except Exception as e:\n",
    "            print(f\"❌ Error al insertar fila: {e}\")\n",
    "            print(row)\n",
    "\n",
    "    connection.commit()\n",
    "    print(f\"✅ {len(df)} registros insertados en '{tabla}'.\")    \n",
    "\n",
    "#insertar datos de los csv en las tablas\n",
    "insertar_datos(\"general_alquileres\", df_alquileres)\n",
    "insertar_datos(\"general_compras\", df_compras)\n",
    "\n",
    "#cerrar la conexión\n",
    "cursor.close()\n",
    "connection.close()\n",
    "print('Conexión cerrada')"
   ]
  },
  {
   "cell_type": "code",
   "execution_count": null,
   "metadata": {},
   "outputs": [],
   "source": []
  }
 ],
 "metadata": {
  "kernelspec": {
   "display_name": "Python 3.11.7",
   "language": "python",
   "name": "python3"
  },
  "language_info": {
   "codemirror_mode": {
    "name": "ipython",
    "version": 3
   },
   "file_extension": ".py",
   "mimetype": "text/x-python",
   "name": "python",
   "nbconvert_exporter": "python",
   "pygments_lexer": "ipython3",
   "version": "3.11.7"
  },
  "vscode": {
   "interpreter": {
    "hash": "faa10f75de45951c7c3939f3103988890fef5be60eea20e39c3d3747e4fc449a"
   }
  }
 },
 "nbformat": 4,
 "nbformat_minor": 2
}
