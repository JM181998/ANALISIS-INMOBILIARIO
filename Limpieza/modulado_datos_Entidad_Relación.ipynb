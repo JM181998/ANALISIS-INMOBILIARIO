{
 "cells": [
  {
   "cell_type": "code",
   "execution_count": 8,
   "metadata": {},
   "outputs": [],
   "source": [
    "import mysql.connector\n",
    "import cursor\n",
    "import pandas as pd\n",
    "from sqlalchemy import create_engine        #para cargar las tablas de mysql"
   ]
  },
  {
   "cell_type": "code",
   "execution_count": 9,
   "metadata": {},
   "outputs": [
    {
     "name": "stderr",
     "output_type": "stream",
     "text": [
      "C:\\Users\\franp\\AppData\\Local\\Temp\\ipykernel_17400\\1404999507.py:2: DtypeWarning: Columns (63) have mixed types. Specify dtype option on import or set low_memory=False.\n",
      "  df_compras = pd.read_csv(r'C:\\Users\\franp\\Escritorio\\Bootcamp\\Proyecto Análisis Mercado Inmobiliario\\Sprint 2\\08032025\\compras_completo_limpio.csv')\n"
     ]
    }
   ],
   "source": [
    "df_alquileres = pd.read_csv(r'C:\\Users\\franp\\Escritorio\\Bootcamp\\Proyecto Análisis Mercado Inmobiliario\\Sprint 2\\08032025\\alquileres_completo_limpio.csv')\n",
    "df_compras = pd.read_csv(r'C:\\Users\\franp\\Escritorio\\Bootcamp\\Proyecto Análisis Mercado Inmobiliario\\Sprint 2\\08032025\\compras_completo_limpio.csv')\n",
    "df_alquileres_clustering = pd.read_csv(r'C:\\Users\\franp\\Escritorio\\Bootcamp\\Proyecto Análisis Mercado Inmobiliario\\Sprint 2\\df_alquileres_clustering.csv')\n",
    "df_compras_clustering = pd.read_csv(r'C:\\Users\\franp\\Escritorio\\Bootcamp\\Proyecto Análisis Mercado Inmobiliario\\Sprint 2\\df_compras_clustering.csv')"
   ]
  },
  {
   "cell_type": "code",
   "execution_count": null,
   "metadata": {},
   "outputs": [],
   "source": [
    "#quito el mapeo de nuevo orden de variables y de mapa_ccaa porque ya está incluido en el csv\n",
    "#quitamos también el mapeo de ccaa"
   ]
  },
  {
   "cell_type": "markdown",
   "metadata": {},
   "source": [
    "## NO EJECUTAR - Generar el esquema SQL - Mapeo de tipo de datos en MySQL - OPCIÓN 1"
   ]
  },
  {
   "cell_type": "code",
   "execution_count": 10,
   "metadata": {},
   "outputs": [],
   "source": [
    "#este código es más extensible pero a la vez flexible por si se quieren añadir más tipo de variables"
   ]
  },
  {
   "cell_type": "code",
   "execution_count": 10,
   "metadata": {},
   "outputs": [
    {
     "name": "stdout",
     "output_type": "stream",
     "text": [
      "Esquemas generados y guardados exitosamente\n"
     ]
    }
   ],
   "source": [
    "#mapeo de tipos de datos de pandas a MySQL\n",
    "\n",
    "dtype_mapping = {\n",
    "    'int64': 'INT',\n",
    "    'float64': 'FLOAT',\n",
    "    'object': 'VARCHAR(255)',\n",
    "    'bool': 'BOOLEAN',\n",
    "    'datetime64': 'DATETIME'\n",
    "}\n",
    "\n",
    "#función para generar la estructura SQL\n",
    "\n",
    "def generate_mysql_schema(df, table_name):\n",
    "    sql = f'CREATE TABLE {table_name} (\\n'\n",
    "\n",
    "    for col, dtype in df.dtypes.items():             #dtypes: cada tipo de dato de las variables\n",
    "        mysql_type = dtype_mapping.get(str(dtype), 'TEXT')\n",
    "        sql += f\"    `{col}` {mysql_type},\\n\"\n",
    "\n",
    "    sql = sql.rstrip(',\\n') + '\\n);'\n",
    "    return sql\n",
    "\n",
    "#generar el código SQL (este es el que se introduce en sql_schema)\n",
    "sql_alquileres = generate_mysql_schema(df_alquileres, 'general_alquileres')\n",
    "sql_compras = generate_mysql_schema(df_compras, 'general_compras')\n",
    "\n",
    "#los guardamos en un archivo mysql porque no se puede leer completo (truncado)\n",
    "with open('general_alquileres_mysql.sql', 'w') as f:\n",
    "    f.write(sql_alquileres)\n",
    "\n",
    "with open('general_compras_mysql.sql', 'w') as f:\n",
    "    f.write(sql_compras)\n",
    "\n",
    "print('Esquemas generados y guardados exitosamente')\n"
   ]
  },
  {
   "cell_type": "code",
   "execution_count": 12,
   "metadata": {},
   "outputs": [
    {
     "name": "stdout",
     "output_type": "stream",
     "text": [
      "Columnas en alquileres: ['identificador', 'nombre', 'href', 'agencia', 'area', 'provincia', 'comunidad_autonoma', 'coordenadas', 'tipo_de_casa', 'planta', 'orientacion', 'precio', 'precio_m2', 'gastos_de_comunidad', 'antiguedad', 'conservacion', 'telefono', 'actualizacion', 'timestamp', 'superficie', 'superficie_util', 'superficie_construida', 'superficie_solar', 'habitaciones', 'baños', 'comedor', 'cocina_equipada', 'amueblado', 'lavadero', 'balcon', 'terraza', 'trastero', 'garaje', 'piscina', 'chimenea', 'jardin', 'exterior', 'carpinteria_interior', 'carpinteria_exterior', 'tipo_suelo', 'puerta_blindada', 'armarios_empotrados', 'luz', 'agua', 'gas', 'calefaccion', 'aire_acondicionado', 'sistema_de_seguridad', 'ascensor', 'portero_automatico', 'se_aceptan_mascotas', 'zona_comunitaria', 'sala_comunitaria', 'adaptado_a_personas_con_movilidad_reducida', 'zona_de_juegos_infantiles', 'cuarto_de_bicicletas', 'calle_alumbrada', 'alcantarillado', 'instalaciones_deportivas', 'certificado_energetico', 'aerotermia', 'vidrios_dobles']\n",
      "Columnas en compras: ['identificador', 'nombre', 'href', 'agencia', 'area', 'provincia', 'comunidad_autonoma', 'coordenadas', 'tipo_de_casa', 'planta', 'orientacion', 'precio', 'precio_m2', 'gastos_de_comunidad', 'antiguedad', 'conservacion', 'telefono', 'actualizacion', 'timestamp', 'superficie', 'superficie_util', 'superficie_construida', 'superficie_solar', 'habitaciones', 'baños', 'comedor', 'cocina_equipada', 'amueblado', 'lavadero', 'balcon', 'terraza', 'trastero', 'garaje', 'piscina', 'chimenea', 'jardin', 'exterior', 'carpinteria_interior', 'carpinteria_exterior', 'tipo_suelo', 'puerta_blindada', 'armarios_empotrados', 'luz', 'agua', 'gas', 'calefaccion', 'aire_acondicionado', 'sistema_de_seguridad', 'ascensor', 'portero_automatico', 'se_aceptan_mascotas', 'zona_comunitaria', 'sala_comunitaria', 'adaptado_a_personas_con_movilidad_reducida', 'zona_de_juegos_infantiles', 'cuarto_de_bicicletas', 'calle_alumbrada', 'alcantarillado', 'instalaciones_deportivas', 'proximidad_a_la_playa', 'en_construccion', 'gastroteca', 'certificado_energetico', 'aerotermia', 'vidrios_dobles']\n"
     ]
    }
   ],
   "source": [
    "print(f'Columnas en alquileres: {df_alquileres.columns.tolist()}')\n",
    "print(f'Columnas en compras: {df_compras.columns.tolist()}')"
   ]
  },
  {
   "cell_type": "markdown",
   "metadata": {},
   "source": [
    "## Generar el esquema SQL automáticamente - OPCIÓN 2\n"
   ]
  },
  {
   "cell_type": "code",
   "execution_count": null,
   "metadata": {},
   "outputs": [],
   "source": [
    "#este código es más conciso y útil para mapear tipos básicos"
   ]
  },
  {
   "cell_type": "code",
   "execution_count": 11,
   "metadata": {},
   "outputs": [
    {
     "name": "stdout",
     "output_type": "stream",
     "text": [
      "CREATE TABLE general_alquileres (\n",
      "    `identificador` VARCHAR(255),\n",
      "    `nombre` VARCHAR(255),\n",
      "    `href` VARCHAR(255),\n",
      "    `agencia` VARCHAR(255),\n",
      "    `area` VARCHAR(255),\n",
      "    `provincia` VARCHAR(255),\n",
      "    `comunidad_autonoma` VARCHAR(255),\n",
      "    `coordenadas` VARCHAR(255),\n",
      "    `tipo_de_casa` VARCHAR(255),\n",
      "    `planta` INT,\n",
      "    `orientacion` VARCHAR(255),\n",
      "    `precio` FLOAT,\n",
      "    `precio_m2` FLOAT,\n",
      "    `gastos_de_comunidad` VARCHAR(255),\n",
      "    `antiguedad` VARCHAR(255),\n",
      "    `conservacion` VARCHAR(255),\n",
      "    `telefono` VARCHAR(255),\n",
      "    `actualizacion` VARCHAR(255),\n",
      "    `timestamp` VARCHAR(255),\n",
      "    `superficie` FLOAT,\n",
      "    `superficie_util` FLOAT,\n",
      "    `superficie_construida` FLOAT,\n",
      "    `superficie_solar` FLOAT,\n",
      "    `habitaciones` FLOAT,\n",
      "    `baños` FLOAT,\n",
      "    `comedor` VARCHAR(255),\n",
      "    `cocina_equipada` VARCHAR(255),\n",
      "    `amueblado` VARCHAR(255),\n",
      "    `lavadero` VARCHAR(255),\n",
      "    `balcon` VARCHAR(255),\n",
      "    `terraza` VARCHAR(255),\n",
      "    `trastero` VARCHAR(255),\n",
      "    `garaje` VARCHAR(255),\n",
      "    `piscina` VARCHAR(255),\n",
      "    `chimenea` VARCHAR(255),\n",
      "    `jardin` VARCHAR(255),\n",
      "    `exterior` VARCHAR(255),\n",
      "    `carpinteria_interior` VARCHAR(255),\n",
      "    `carpinteria_exterior` VARCHAR(255),\n",
      "    `tipo_suelo` VARCHAR(255),\n",
      "    `puerta_blindada` VARCHAR(255),\n",
      "    `armarios_empotrados` VARCHAR(255),\n",
      "    `luz` VARCHAR(255),\n",
      "    `agua` VARCHAR(255),\n",
      "    `gas` VARCHAR(255),\n",
      "    `calefaccion` VARCHAR(255),\n",
      "    `aire_acondicionado` VARCHAR(255),\n",
      "    `sistema_de_seguridad` VARCHAR(255),\n",
      "    `ascensor` VARCHAR(255),\n",
      "    `portero_automatico` VARCHAR(255),\n",
      "    `se_aceptan_mascotas` VARCHAR(255),\n",
      "    `zona_comunitaria` VARCHAR(255),\n",
      "    `sala_comunitaria` VARCHAR(255),\n",
      "    `adaptado_a_personas_con_movilidad_reducida` VARCHAR(255),\n",
      "    `zona_de_juegos_infantiles` VARCHAR(255),\n",
      "    `cuarto_de_bicicletas` VARCHAR(255),\n",
      "    `calle_alumbrada` VARCHAR(255),\n",
      "    `alcantarillado` VARCHAR(255),\n",
      "    `instalaciones_deportivas` VARCHAR(255),\n",
      "    `certificado_energetico` VARCHAR(255),\n",
      "    `aerotermia` VARCHAR(255),\n",
      "    `vidrios_dobles` VARCHAR(255),\n",
      "    `id` INT AUTO_INCREMENT PRIMARY KEY\n",
      ");\n",
      "CREATE TABLE general_compras (\n",
      "    `identificador` VARCHAR(255),\n",
      "    `nombre` VARCHAR(255),\n",
      "    `href` VARCHAR(255),\n",
      "    `agencia` VARCHAR(255),\n",
      "    `area` VARCHAR(255),\n",
      "    `provincia` VARCHAR(255),\n",
      "    `comunidad_autonoma` VARCHAR(255),\n",
      "    `coordenadas` VARCHAR(255),\n",
      "    `tipo_de_casa` VARCHAR(255),\n",
      "    `planta` INT,\n",
      "    `orientacion` VARCHAR(255),\n",
      "    `precio` FLOAT,\n",
      "    `precio_m2` FLOAT,\n",
      "    `gastos_de_comunidad` VARCHAR(255),\n",
      "    `antiguedad` VARCHAR(255),\n",
      "    `conservacion` VARCHAR(255),\n",
      "    `telefono` VARCHAR(255),\n",
      "    `actualizacion` VARCHAR(255),\n",
      "    `timestamp` VARCHAR(255),\n",
      "    `superficie` FLOAT,\n",
      "    `superficie_util` FLOAT,\n",
      "    `superficie_construida` FLOAT,\n",
      "    `superficie_solar` FLOAT,\n",
      "    `habitaciones` FLOAT,\n",
      "    `baños` FLOAT,\n",
      "    `comedor` VARCHAR(255),\n",
      "    `cocina_equipada` VARCHAR(255),\n",
      "    `amueblado` VARCHAR(255),\n",
      "    `lavadero` VARCHAR(255),\n",
      "    `balcon` VARCHAR(255),\n",
      "    `terraza` VARCHAR(255),\n",
      "    `trastero` VARCHAR(255),\n",
      "    `garaje` VARCHAR(255),\n",
      "    `piscina` VARCHAR(255),\n",
      "    `chimenea` VARCHAR(255),\n",
      "    `jardin` VARCHAR(255),\n",
      "    `exterior` VARCHAR(255),\n",
      "    `carpinteria_interior` VARCHAR(255),\n",
      "    `carpinteria_exterior` VARCHAR(255),\n",
      "    `tipo_suelo` VARCHAR(255),\n",
      "    `puerta_blindada` VARCHAR(255),\n",
      "    `armarios_empotrados` VARCHAR(255),\n",
      "    `luz` VARCHAR(255),\n",
      "    `agua` VARCHAR(255),\n",
      "    `gas` VARCHAR(255),\n",
      "    `calefaccion` VARCHAR(255),\n",
      "    `aire_acondicionado` VARCHAR(255),\n",
      "    `sistema_de_seguridad` VARCHAR(255),\n",
      "    `ascensor` VARCHAR(255),\n",
      "    `portero_automatico` VARCHAR(255),\n",
      "    `se_aceptan_mascotas` VARCHAR(255),\n",
      "    `zona_comunitaria` VARCHAR(255),\n",
      "    `sala_comunitaria` VARCHAR(255),\n",
      "    `adaptado_a_personas_con_movilidad_reducida` VARCHAR(255),\n",
      "    `zona_de_juegos_infantiles` VARCHAR(255),\n",
      "    `cuarto_de_bicicletas` VARCHAR(255),\n",
      "    `calle_alumbrada` VARCHAR(255),\n",
      "    `alcantarillado` VARCHAR(255),\n",
      "    `instalaciones_deportivas` VARCHAR(255),\n",
      "    `proximidad_a_la_playa` VARCHAR(255),\n",
      "    `en_construccion` VARCHAR(255),\n",
      "    `gastroteca` VARCHAR(255),\n",
      "    `certificado_energetico` VARCHAR(255),\n",
      "    `aerotermia` VARCHAR(255),\n",
      "    `vidrios_dobles` VARCHAR(255),\n",
      "    `id` INT AUTO_INCREMENT PRIMARY KEY\n",
      ");\n",
      "CREATE TABLE general_alquileres_cluster (\n",
      "    `Unnamed: 0` INT,\n",
      "    `area` VARCHAR(255),\n",
      "    `provincia` VARCHAR(255),\n",
      "    `comunidad_autonoma` VARCHAR(255),\n",
      "    `tipo_de_casa` VARCHAR(255),\n",
      "    `precio` FLOAT,\n",
      "    `precio_m2` FLOAT,\n",
      "    `superficie` FLOAT,\n",
      "    `habitaciones` FLOAT,\n",
      "    `baños` FLOAT,\n",
      "    `cluster` INT,\n",
      "    PRIMARY KEY (`id`),\n",
      "    FOREIGN KEY (`id`) REFERENCES `general_alquileres`(`id`) ON DELETE CASCADE\n",
      ");\n",
      "CREATE TABLE general_compras_cluster (\n",
      "    `Unnamed: 0` INT,\n",
      "    `area` VARCHAR(255),\n",
      "    `provincia` VARCHAR(255),\n",
      "    `comunidad_autonoma` VARCHAR(255),\n",
      "    `tipo_de_casa` VARCHAR(255),\n",
      "    `precio` FLOAT,\n",
      "    `precio_m2` FLOAT,\n",
      "    `superficie` FLOAT,\n",
      "    `habitaciones` FLOAT,\n",
      "    `baños` FLOAT,\n",
      "    `cluster` INT,\n",
      "    PRIMARY KEY (`id`),\n",
      "    FOREIGN KEY (`id`) REFERENCES `general_compras`(`id`) ON DELETE CASCADE\n",
      ");\n"
     ]
    },
    {
     "name": "stderr",
     "output_type": "stream",
     "text": [
      "C:\\Users\\franp\\AppData\\Local\\Temp\\ipykernel_17400\\4038514233.py:4: DeprecationWarning: is_int64_dtype is deprecated and will be removed in a future version. Use dtype == np.int64 instead.\n",
      "  if pd.api.types.is_int64_dtype(dtype):\n",
      "C:\\Users\\franp\\AppData\\Local\\Temp\\ipykernel_17400\\4038514233.py:4: DeprecationWarning: is_int64_dtype is deprecated and will be removed in a future version. Use dtype == np.int64 instead.\n",
      "  if pd.api.types.is_int64_dtype(dtype):\n",
      "C:\\Users\\franp\\AppData\\Local\\Temp\\ipykernel_17400\\4038514233.py:4: DeprecationWarning: is_int64_dtype is deprecated and will be removed in a future version. Use dtype == np.int64 instead.\n",
      "  if pd.api.types.is_int64_dtype(dtype):\n",
      "C:\\Users\\franp\\AppData\\Local\\Temp\\ipykernel_17400\\4038514233.py:4: DeprecationWarning: is_int64_dtype is deprecated and will be removed in a future version. Use dtype == np.int64 instead.\n",
      "  if pd.api.types.is_int64_dtype(dtype):\n"
     ]
    }
   ],
   "source": [
    "def inferir_tipo_sql(dtype):\n",
    "    \"\"\"inferir el tipo de dato SQL a partir del tipo de dato en Pandas.\"\"\"\n",
    "\n",
    "    if pd.api.types.is_int64_dtype(dtype):\n",
    "        return 'INT'\n",
    "    elif pd.api.types.is_float_dtype(dtype):\n",
    "        return 'FLOAT'\n",
    "    else:\n",
    "        return 'VARCHAR(255)'\n",
    "\n",
    "def generar_schema(tabla, df, primary_key=None, foreign_key=None, referenced_table=None):\n",
    "    \"\"\"generar la sentencia SQL para la creación de una tabla con clave primaria y foránea.\"\"\"\n",
    "    \n",
    "    columnas = []\n",
    "    for col, dtype in zip(df.columns, df.dtypes):\n",
    "        tipo_sql = inferir_tipo_sql(dtype)\n",
    "        columnas.append(f'`{col}` {tipo_sql}')\n",
    "    if primary_key is None:\n",
    "        columnas.append('`id` INT AUTO_INCREMENT PRIMARY KEY')\n",
    "    else:\n",
    "        columnas.append(f'PRIMARY KEY (`{primary_key}`)')\n",
    "\n",
    "    if foreign_key and referenced_table:\n",
    "        columnas.append(f'FOREIGN KEY (`{foreign_key}`) REFERENCES `{referenced_table}`(`id`) ON DELETE CASCADE')\n",
    "    \n",
    "    return f'CREATE TABLE {tabla} (\\n    '+',\\n    '.join(columnas) + '\\n);'\n",
    "\n",
    "sql_schema_alquileres = generar_schema('general_alquileres', df_alquileres)\n",
    "sql_schema_compras = generar_schema('general_compras', df_compras)\n",
    "\n",
    "sql_schema_cluster_alquileres = generar_schema(\n",
    "    'general_alquileres_cluster', df_alquileres_clustering,\n",
    "    primary_key='id', foreign_key='id', referenced_table='general_alquileres'\n",
    "    )\n",
    "\n",
    "sql_schema_cluster_compras = generar_schema(\n",
    "    'general_compras_cluster', df_compras_clustering,\n",
    "    primary_key='id', foreign_key='id', referenced_table='general_compras'\n",
    "    )\n",
    "\n",
    "print(sql_schema_alquileres)\n",
    "print(sql_schema_compras)\n",
    "print(sql_schema_cluster_alquileres)\n",
    "print(sql_schema_cluster_compras)\n"
   ]
  },
  {
   "cell_type": "markdown",
   "metadata": {},
   "source": [
    "## Conexión a la base de datos"
   ]
  },
  {
   "cell_type": "code",
   "execution_count": 12,
   "metadata": {},
   "outputs": [
    {
     "name": "stdout",
     "output_type": "stream",
     "text": [
      "Error: 1050 (42S01): Table 'general_alquileres' already exists\n"
     ]
    }
   ],
   "source": [
    "#parámetros de conexión\n",
    "connection = mysql.connector.connect(\n",
    "    host='localhost',\n",
    "    user='root',\n",
    "    password='Amsterdam1991!',\n",
    "    database='analisis_inmobiliario'\n",
    ")\n",
    "\n",
    "cursor = connection.cursor()\n",
    "\n",
    "try:\n",
    "    cursor.execute(sql_schema_alquileres)\n",
    "    print(\"Tabla general_alquileres creada exitosamente.\")\n",
    "\n",
    "    cursor.execute(sql_schema_compras)\n",
    "    print('Tabla general_compras creada exitosamente')\n",
    "\n",
    "    cursor.execute(sql_schema_cluster_alquileres)\n",
    "    print(\"Tabla general_alquileres_cluster creada exitosamente.\")\n",
    "\n",
    "    cursor.execute(sql_schema_cluster_compras)\n",
    "    print(\"Tabla general_compras_cluster creada exitosamente.\")\n",
    "\n",
    "\n",
    "    connection.commit()\n",
    "\n",
    "except mysql.connector.Error as err:\n",
    "    print(f'Error: {err}')\n",
    "\n",
    "cursor.close()\n",
    "connection.close()"
   ]
  },
  {
   "cell_type": "markdown",
   "metadata": {},
   "source": [
    "## Insertar datos desde el CSV a las tablas"
   ]
  },
  {
   "cell_type": "code",
   "execution_count": null,
   "metadata": {},
   "outputs": [
    {
     "name": "stdout",
     "output_type": "stream",
     "text": [
      "13483 registros insertados en 'general_alquileres'.\n"
     ]
    }
   ],
   "source": [
    "connection = mysql.connector.connect(\n",
    "    host='localhost',\n",
    "    user='root',\n",
    "    password='Amsterdam1991!',\n",
    "    database='analisis_inmobiliario'\n",
    ")\n",
    "\n",
    "cursor = connection.cursor()\n",
    "\n",
    "def insertar_datos(tabla, df):\n",
    "    columnas = ', '.join([f\"`{col}`\" for col in df.columns])\n",
    "    valores = ', '.join(['%s'] * len(df.columns))\n",
    "    query = f\"INSERT INTO {tabla} ({columnas}) VALUES ({valores})\"\n",
    "\n",
    "    for _, row in df.iterrows():\n",
    "        try:\n",
    "            cursor.execute(query, tuple(row))\n",
    "        except Exception as e:\n",
    "            print(f\"Error al insertar fila: {e}\")\n",
    "            print(row)\n",
    "\n",
    "    connection.commit()\n",
    "    print(f\"{len(df)} registros insertados en '{tabla}'.\")    \n",
    "\n",
    "#insertar datos de los csv en las tablas\n",
    "insertar_datos(\"general_alquileres\", df_alquileres)\n",
    "insertar_datos(\"general_compras\", df_compras)\n",
    "insertar_datos(\"general_alquileres_cluster\", df_alquileres)\n",
    "insertar_datos(\"general_compras_cluster\", df_compras)\n",
    "\n",
    "#cerrar la conexión\n",
    "cursor.close()\n",
    "connection.close()\n",
    "print('Conexión cerrada')"
   ]
  }
 ],
 "metadata": {
  "kernelspec": {
   "display_name": "Python 3",
   "language": "python",
   "name": "python3"
  },
  "language_info": {
   "codemirror_mode": {
    "name": "ipython",
    "version": 3
   },
   "file_extension": ".py",
   "mimetype": "text/x-python",
   "name": "python",
   "nbconvert_exporter": "python",
   "pygments_lexer": "ipython3",
   "version": "3.13.2"
  }
 },
 "nbformat": 4,
 "nbformat_minor": 2
}
