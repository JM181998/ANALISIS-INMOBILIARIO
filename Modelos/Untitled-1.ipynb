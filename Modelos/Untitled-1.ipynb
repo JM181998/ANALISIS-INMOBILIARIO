{
 "cells": [
  {
   "cell_type": "code",
   "execution_count": 32,
   "metadata": {},
   "outputs": [],
   "source": [
    "import pandas as pd\n",
    "from sklearn.cluster import KMeans\n",
    "import matplotlib.pyplot as plt\n",
    "import seaborn as sns\n",
    "from sklearn.preprocessing import StandardScaler, LabelEncoder\n",
    "from sklearn.cluster import KMeans\n",
    "import matplotlib.pyplot as plt\n",
    "from sklearn.model_selection import train_test_split\n",
    "from sklearn.ensemble import RandomForestRegressor\n",
    "from sklearn.metrics import mean_absolute_error, mean_squared_error"
   ]
  },
  {
   "cell_type": "code",
   "execution_count": 33,
   "metadata": {},
   "outputs": [
    {
     "data": {
      "text/html": [
       "<div>\n",
       "<style scoped>\n",
       "    .dataframe tbody tr th:only-of-type {\n",
       "        vertical-align: middle;\n",
       "    }\n",
       "\n",
       "    .dataframe tbody tr th {\n",
       "        vertical-align: top;\n",
       "    }\n",
       "\n",
       "    .dataframe thead th {\n",
       "        text-align: right;\n",
       "    }\n",
       "</style>\n",
       "<table border=\"1\" class=\"dataframe\">\n",
       "  <thead>\n",
       "    <tr style=\"text-align: right;\">\n",
       "      <th></th>\n",
       "      <th>identificador</th>\n",
       "      <th>nombre</th>\n",
       "      <th>area</th>\n",
       "      <th>provincia</th>\n",
       "      <th>comunidad_autonoma</th>\n",
       "      <th>codigo_postal</th>\n",
       "      <th>coordenadas</th>\n",
       "      <th>href</th>\n",
       "      <th>antiguedad</th>\n",
       "      <th>conservacion</th>\n",
       "      <th>...</th>\n",
       "      <th>precio</th>\n",
       "      <th>precio_m2</th>\n",
       "      <th>emisiones</th>\n",
       "      <th>consumo</th>\n",
       "      <th>orientacion</th>\n",
       "      <th>calle_alumbrada</th>\n",
       "      <th>agencia</th>\n",
       "      <th>actualizacion</th>\n",
       "      <th>timestamp</th>\n",
       "      <th>tipo_de_casa</th>\n",
       "    </tr>\n",
       "  </thead>\n",
       "  <tbody>\n",
       "    <tr>\n",
       "      <th>0</th>\n",
       "      <td>51748300470_101800</td>\n",
       "      <td>Casa adosada en calle de la Gran Vía, 7</td>\n",
       "      <td>Corredor Del Henares</td>\n",
       "      <td>Madrid</td>\n",
       "      <td>Comunidad De Madrid</td>\n",
       "      <td>NaN</td>\n",
       "      <td>40.5438, -3.37927</td>\n",
       "      <td>https://www.pisos.com/comprar/casa_adosada-cam...</td>\n",
       "      <td>NaN</td>\n",
       "      <td>NaN</td>\n",
       "      <td>...</td>\n",
       "      <td>323300.0</td>\n",
       "      <td>2694.0</td>\n",
       "      <td>A, A</td>\n",
       "      <td>A, A</td>\n",
       "      <td>Sin especificar</td>\n",
       "      <td>Sin especificar</td>\n",
       "      <td>Hercesa</td>\n",
       "      <td>Anuncio actualizado el 28/02/2025</td>\n",
       "      <td>2025-02-28 21:02:41</td>\n",
       "      <td>Casa adosada</td>\n",
       "    </tr>\n",
       "    <tr>\n",
       "      <th>1</th>\n",
       "      <td>38350600856_109700</td>\n",
       "      <td>Casa adosada en calle de la Gran Vía, 12</td>\n",
       "      <td>Corredor Del Henares</td>\n",
       "      <td>Madrid</td>\n",
       "      <td>Comunidad De Madrid</td>\n",
       "      <td>NaN</td>\n",
       "      <td>40.54455876322138, -3.3799266815185547</td>\n",
       "      <td>https://www.pisos.com/comprar/casa_adosada-cam...</td>\n",
       "      <td>NaN</td>\n",
       "      <td>A estrenar</td>\n",
       "      <td>...</td>\n",
       "      <td>340200.0</td>\n",
       "      <td>2858.0</td>\n",
       "      <td>Error al procesar emisiones</td>\n",
       "      <td>Error al procesar consumo</td>\n",
       "      <td>Sin especificar</td>\n",
       "      <td>Sin especificar</td>\n",
       "      <td>Hercesa</td>\n",
       "      <td>Anuncio actualizado el 08/02/2025</td>\n",
       "      <td>2025-02-28 21:02:42</td>\n",
       "      <td>Casa adosada</td>\n",
       "    </tr>\n",
       "    <tr>\n",
       "      <th>2</th>\n",
       "      <td>49206134954_100200</td>\n",
       "      <td>Casa adosada en Villalbilla</td>\n",
       "      <td>Corredor Del Henares</td>\n",
       "      <td>Madrid</td>\n",
       "      <td>Comunidad De Madrid</td>\n",
       "      <td>NaN</td>\n",
       "      <td>40.4464284, -3.3478297</td>\n",
       "      <td>https://www.pisos.com/comprar/casa_adosada-vil...</td>\n",
       "      <td>Entre 20 y 30 años</td>\n",
       "      <td>A reformar</td>\n",
       "      <td>...</td>\n",
       "      <td>322000.0</td>\n",
       "      <td>1504.0</td>\n",
       "      <td>E, E</td>\n",
       "      <td>E, E</td>\n",
       "      <td>Sin especificar</td>\n",
       "      <td>Sin especificar</td>\n",
       "      <td>Estudio Villalbilla-El Viso Sl</td>\n",
       "      <td>Anuncio actualizado el 29/01/2025</td>\n",
       "      <td>2025-02-28 21:02:42</td>\n",
       "      <td>Casa adosada</td>\n",
       "    </tr>\n",
       "    <tr>\n",
       "      <th>3</th>\n",
       "      <td>35856717666_109700</td>\n",
       "      <td>Casa adosada en calle de la Gran Vía, 12</td>\n",
       "      <td>Corredor Del Henares</td>\n",
       "      <td>Madrid</td>\n",
       "      <td>Comunidad De Madrid</td>\n",
       "      <td>NaN</td>\n",
       "      <td>40.54455876322138, -3.3799266815185547</td>\n",
       "      <td>https://www.pisos.com/comprar/casa_adosada-cam...</td>\n",
       "      <td>NaN</td>\n",
       "      <td>A estrenar</td>\n",
       "      <td>...</td>\n",
       "      <td>338370.0</td>\n",
       "      <td>2843.0</td>\n",
       "      <td>Error al procesar emisiones</td>\n",
       "      <td>Error al procesar consumo</td>\n",
       "      <td>Sin especificar</td>\n",
       "      <td>Sin especificar</td>\n",
       "      <td>Hercesa</td>\n",
       "      <td>Anuncio actualizado el 08/02/2025</td>\n",
       "      <td>2025-02-28 21:02:42</td>\n",
       "      <td>Casa adosada</td>\n",
       "    </tr>\n",
       "    <tr>\n",
       "      <th>4</th>\n",
       "      <td>51761494757_995907</td>\n",
       "      <td>Chalet unifamiliar en calle de Soto del Henares</td>\n",
       "      <td>Corredor Del Henares</td>\n",
       "      <td>Madrid</td>\n",
       "      <td>Comunidad De Madrid</td>\n",
       "      <td>NaN</td>\n",
       "      <td>40.4304711, -3.2924094</td>\n",
       "      <td>https://www.pisos.com/comprar/chalet_unifamili...</td>\n",
       "      <td>NaN</td>\n",
       "      <td>En buen estado</td>\n",
       "      <td>...</td>\n",
       "      <td>320000.0</td>\n",
       "      <td>1777.0</td>\n",
       "      <td>A, A</td>\n",
       "      <td>A, A</td>\n",
       "      <td>Sin especificar</td>\n",
       "      <td>Sin especificar</td>\n",
       "      <td>AVANCE URBANO</td>\n",
       "      <td>Anuncio actualizado el 13/02/2025</td>\n",
       "      <td>2025-02-28 21:02:42</td>\n",
       "      <td>Chalet unifamiliar</td>\n",
       "    </tr>\n",
       "    <tr>\n",
       "      <th>...</th>\n",
       "      <td>...</td>\n",
       "      <td>...</td>\n",
       "      <td>...</td>\n",
       "      <td>...</td>\n",
       "      <td>...</td>\n",
       "      <td>...</td>\n",
       "      <td>...</td>\n",
       "      <td>...</td>\n",
       "      <td>...</td>\n",
       "      <td>...</td>\n",
       "      <td>...</td>\n",
       "      <td>...</td>\n",
       "      <td>...</td>\n",
       "      <td>...</td>\n",
       "      <td>...</td>\n",
       "      <td>...</td>\n",
       "      <td>...</td>\n",
       "      <td>...</td>\n",
       "      <td>...</td>\n",
       "      <td>...</td>\n",
       "      <td>...</td>\n",
       "    </tr>\n",
       "    <tr>\n",
       "      <th>399809</th>\n",
       "      <td>48431394446_100500</td>\n",
       "      <td>Piso en calle -</td>\n",
       "      <td>Melilla</td>\n",
       "      <td>Melilla</td>\n",
       "      <td>Melilla</td>\n",
       "      <td>52005.0</td>\n",
       "      <td>35.2826632, -2.9449037</td>\n",
       "      <td>https://www.pisos.com/comprar/piso-melilla_cen...</td>\n",
       "      <td>NaN</td>\n",
       "      <td>En buen estado</td>\n",
       "      <td>...</td>\n",
       "      <td>105000.0</td>\n",
       "      <td>1693.0</td>\n",
       "      <td>Error al procesar emisiones</td>\n",
       "      <td>Error al procesar consumo</td>\n",
       "      <td>Sin especificar</td>\n",
       "      <td>Sin especificar</td>\n",
       "      <td>Urbana Consulting Grupo XXI</td>\n",
       "      <td>Anuncio actualizado el 16/01/2025</td>\n",
       "      <td>2025-03-03 15:13:24</td>\n",
       "      <td>Piso</td>\n",
       "    </tr>\n",
       "    <tr>\n",
       "      <th>399810</th>\n",
       "      <td>48370841753_108700</td>\n",
       "      <td>Piso en Melilla</td>\n",
       "      <td>Melilla</td>\n",
       "      <td>Melilla</td>\n",
       "      <td>Melilla</td>\n",
       "      <td>52006.0</td>\n",
       "      <td>35.278731151, -2.937359951</td>\n",
       "      <td>https://www.pisos.com/comprar/piso-melilla_cen...</td>\n",
       "      <td>Entre 30 y 50 años</td>\n",
       "      <td>NaN</td>\n",
       "      <td>...</td>\n",
       "      <td>195000.0</td>\n",
       "      <td>2532.0</td>\n",
       "      <td>Error al procesar emisiones</td>\n",
       "      <td>Error al procesar consumo</td>\n",
       "      <td>Sin especificar</td>\n",
       "      <td>Sin especificar</td>\n",
       "      <td>IAD ESPAÑA</td>\n",
       "      <td>Anuncio actualizado el 07/12/2024</td>\n",
       "      <td>2025-03-03 15:13:24</td>\n",
       "      <td>Piso</td>\n",
       "    </tr>\n",
       "    <tr>\n",
       "      <th>399811</th>\n",
       "      <td>50838094110_100500</td>\n",
       "      <td>Piso en calle del Gran Capitán</td>\n",
       "      <td>Melilla</td>\n",
       "      <td>Melilla</td>\n",
       "      <td>Melilla</td>\n",
       "      <td>52002.0</td>\n",
       "      <td>35.2959994, -2.9441408</td>\n",
       "      <td>https://www.pisos.com/comprar/piso-melilla_cen...</td>\n",
       "      <td>NaN</td>\n",
       "      <td>En buen estado</td>\n",
       "      <td>...</td>\n",
       "      <td>158000.0</td>\n",
       "      <td>2164.0</td>\n",
       "      <td>Error al procesar emisiones</td>\n",
       "      <td>Error al procesar consumo</td>\n",
       "      <td>Sin especificar</td>\n",
       "      <td>Sin especificar</td>\n",
       "      <td>Urbana Consulting Grupo XXI</td>\n",
       "      <td>Anuncio actualizado el 29/01/2025</td>\n",
       "      <td>2025-03-03 15:13:24</td>\n",
       "      <td>Piso</td>\n",
       "    </tr>\n",
       "    <tr>\n",
       "      <th>399812</th>\n",
       "      <td>48395661430_100500</td>\n",
       "      <td>Piso en calle de Castelar</td>\n",
       "      <td>Melilla</td>\n",
       "      <td>Melilla</td>\n",
       "      <td>Melilla</td>\n",
       "      <td>52001.0</td>\n",
       "      <td>35.2958781, -2.9415108</td>\n",
       "      <td>https://www.pisos.com/comprar/piso-melilla_cen...</td>\n",
       "      <td>NaN</td>\n",
       "      <td>En buen estado</td>\n",
       "      <td>...</td>\n",
       "      <td>116000.0</td>\n",
       "      <td>1288.0</td>\n",
       "      <td>Error al procesar emisiones</td>\n",
       "      <td>Error al procesar consumo</td>\n",
       "      <td>Sin especificar</td>\n",
       "      <td>Sin especificar</td>\n",
       "      <td>Urbana Consulting Grupo XXI</td>\n",
       "      <td>Anuncio actualizado el 14/11/2024</td>\n",
       "      <td>2025-03-03 15:13:24</td>\n",
       "      <td>Piso</td>\n",
       "    </tr>\n",
       "    <tr>\n",
       "      <th>399813</th>\n",
       "      <td>49203327060_100500</td>\n",
       "      <td>Chalet en calle de Guatemala</td>\n",
       "      <td>Melilla</td>\n",
       "      <td>Melilla</td>\n",
       "      <td>Melilla</td>\n",
       "      <td>52003.0</td>\n",
       "      <td>35.2983261, -2.9499047</td>\n",
       "      <td>https://www.pisos.com/comprar/chalet-melilla_c...</td>\n",
       "      <td>NaN</td>\n",
       "      <td>En buen estado</td>\n",
       "      <td>...</td>\n",
       "      <td>140000.0</td>\n",
       "      <td>1891.0</td>\n",
       "      <td>Error al procesar emisiones</td>\n",
       "      <td>Error al procesar consumo</td>\n",
       "      <td>Sin especificar</td>\n",
       "      <td>Sin especificar</td>\n",
       "      <td>Urbana Consulting Grupo XXI</td>\n",
       "      <td>Anuncio actualizado el 02/02/2025</td>\n",
       "      <td>2025-03-03 15:13:24</td>\n",
       "      <td>Chalet</td>\n",
       "    </tr>\n",
       "  </tbody>\n",
       "</table>\n",
       "<p>399814 rows × 57 columns</p>\n",
       "</div>"
      ],
      "text/plain": [
       "             identificador                                           nombre  \\\n",
       "0       51748300470_101800          Casa adosada en calle de la Gran Vía, 7   \n",
       "1       38350600856_109700         Casa adosada en calle de la Gran Vía, 12   \n",
       "2       49206134954_100200                      Casa adosada en Villalbilla   \n",
       "3       35856717666_109700         Casa adosada en calle de la Gran Vía, 12   \n",
       "4       51761494757_995907  Chalet unifamiliar en calle de Soto del Henares   \n",
       "...                    ...                                              ...   \n",
       "399809  48431394446_100500                                  Piso en calle -   \n",
       "399810  48370841753_108700                                  Piso en Melilla   \n",
       "399811  50838094110_100500                   Piso en calle del Gran Capitán   \n",
       "399812  48395661430_100500                        Piso en calle de Castelar   \n",
       "399813  49203327060_100500                     Chalet en calle de Guatemala   \n",
       "\n",
       "                        area provincia   comunidad_autonoma  codigo_postal  \\\n",
       "0       Corredor Del Henares    Madrid  Comunidad De Madrid            NaN   \n",
       "1       Corredor Del Henares    Madrid  Comunidad De Madrid            NaN   \n",
       "2       Corredor Del Henares    Madrid  Comunidad De Madrid            NaN   \n",
       "3       Corredor Del Henares    Madrid  Comunidad De Madrid            NaN   \n",
       "4       Corredor Del Henares    Madrid  Comunidad De Madrid            NaN   \n",
       "...                      ...       ...                  ...            ...   \n",
       "399809               Melilla   Melilla              Melilla        52005.0   \n",
       "399810               Melilla   Melilla              Melilla        52006.0   \n",
       "399811               Melilla   Melilla              Melilla        52002.0   \n",
       "399812               Melilla   Melilla              Melilla        52001.0   \n",
       "399813               Melilla   Melilla              Melilla        52003.0   \n",
       "\n",
       "                                   coordenadas  \\\n",
       "0                            40.5438, -3.37927   \n",
       "1       40.54455876322138, -3.3799266815185547   \n",
       "2                       40.4464284, -3.3478297   \n",
       "3       40.54455876322138, -3.3799266815185547   \n",
       "4                       40.4304711, -3.2924094   \n",
       "...                                        ...   \n",
       "399809                  35.2826632, -2.9449037   \n",
       "399810              35.278731151, -2.937359951   \n",
       "399811                  35.2959994, -2.9441408   \n",
       "399812                  35.2958781, -2.9415108   \n",
       "399813                  35.2983261, -2.9499047   \n",
       "\n",
       "                                                     href          antiguedad  \\\n",
       "0       https://www.pisos.com/comprar/casa_adosada-cam...                 NaN   \n",
       "1       https://www.pisos.com/comprar/casa_adosada-cam...                 NaN   \n",
       "2       https://www.pisos.com/comprar/casa_adosada-vil...  Entre 20 y 30 años   \n",
       "3       https://www.pisos.com/comprar/casa_adosada-cam...                 NaN   \n",
       "4       https://www.pisos.com/comprar/chalet_unifamili...                 NaN   \n",
       "...                                                   ...                 ...   \n",
       "399809  https://www.pisos.com/comprar/piso-melilla_cen...                 NaN   \n",
       "399810  https://www.pisos.com/comprar/piso-melilla_cen...  Entre 30 y 50 años   \n",
       "399811  https://www.pisos.com/comprar/piso-melilla_cen...                 NaN   \n",
       "399812  https://www.pisos.com/comprar/piso-melilla_cen...                 NaN   \n",
       "399813  https://www.pisos.com/comprar/chalet-melilla_c...                 NaN   \n",
       "\n",
       "          conservacion  ...    precio  precio_m2                    emisiones  \\\n",
       "0                  NaN  ...  323300.0     2694.0                         A, A   \n",
       "1           A estrenar  ...  340200.0     2858.0  Error al procesar emisiones   \n",
       "2           A reformar  ...  322000.0     1504.0                         E, E   \n",
       "3           A estrenar  ...  338370.0     2843.0  Error al procesar emisiones   \n",
       "4       En buen estado  ...  320000.0     1777.0                         A, A   \n",
       "...                ...  ...       ...        ...                          ...   \n",
       "399809  En buen estado  ...  105000.0     1693.0  Error al procesar emisiones   \n",
       "399810             NaN  ...  195000.0     2532.0  Error al procesar emisiones   \n",
       "399811  En buen estado  ...  158000.0     2164.0  Error al procesar emisiones   \n",
       "399812  En buen estado  ...  116000.0     1288.0  Error al procesar emisiones   \n",
       "399813  En buen estado  ...  140000.0     1891.0  Error al procesar emisiones   \n",
       "\n",
       "                          consumo      orientacion  calle_alumbrada  \\\n",
       "0                            A, A  Sin especificar  Sin especificar   \n",
       "1       Error al procesar consumo  Sin especificar  Sin especificar   \n",
       "2                            E, E  Sin especificar  Sin especificar   \n",
       "3       Error al procesar consumo  Sin especificar  Sin especificar   \n",
       "4                            A, A  Sin especificar  Sin especificar   \n",
       "...                           ...              ...              ...   \n",
       "399809  Error al procesar consumo  Sin especificar  Sin especificar   \n",
       "399810  Error al procesar consumo  Sin especificar  Sin especificar   \n",
       "399811  Error al procesar consumo  Sin especificar  Sin especificar   \n",
       "399812  Error al procesar consumo  Sin especificar  Sin especificar   \n",
       "399813  Error al procesar consumo  Sin especificar  Sin especificar   \n",
       "\n",
       "                               agencia                      actualizacion  \\\n",
       "0                              Hercesa  Anuncio actualizado el 28/02/2025   \n",
       "1                              Hercesa  Anuncio actualizado el 08/02/2025   \n",
       "2       Estudio Villalbilla-El Viso Sl  Anuncio actualizado el 29/01/2025   \n",
       "3                              Hercesa  Anuncio actualizado el 08/02/2025   \n",
       "4                        AVANCE URBANO  Anuncio actualizado el 13/02/2025   \n",
       "...                                ...                                ...   \n",
       "399809     Urbana Consulting Grupo XXI  Anuncio actualizado el 16/01/2025   \n",
       "399810                      IAD ESPAÑA  Anuncio actualizado el 07/12/2024   \n",
       "399811     Urbana Consulting Grupo XXI  Anuncio actualizado el 29/01/2025   \n",
       "399812     Urbana Consulting Grupo XXI  Anuncio actualizado el 14/11/2024   \n",
       "399813     Urbana Consulting Grupo XXI  Anuncio actualizado el 02/02/2025   \n",
       "\n",
       "                  timestamp        tipo_de_casa  \n",
       "0       2025-02-28 21:02:41        Casa adosada  \n",
       "1       2025-02-28 21:02:42        Casa adosada  \n",
       "2       2025-02-28 21:02:42        Casa adosada  \n",
       "3       2025-02-28 21:02:42        Casa adosada  \n",
       "4       2025-02-28 21:02:42  Chalet unifamiliar  \n",
       "...                     ...                 ...  \n",
       "399809  2025-03-03 15:13:24                Piso  \n",
       "399810  2025-03-03 15:13:24                Piso  \n",
       "399811  2025-03-03 15:13:24                Piso  \n",
       "399812  2025-03-03 15:13:24                Piso  \n",
       "399813  2025-03-03 15:13:24              Chalet  \n",
       "\n",
       "[399814 rows x 57 columns]"
      ]
     },
     "execution_count": 33,
     "metadata": {},
     "output_type": "execute_result"
    }
   ],
   "source": [
    "file_path = \"..\\csv_completos_limpio\\compras_completo_limpio.csv\"\n",
    "df = pd.read_csv(file_path)\n",
    "df"
   ]
  },
  {
   "cell_type": "code",
   "execution_count": 34,
   "metadata": {},
   "outputs": [],
   "source": [
    "df = df.drop_duplicates(subset=\"identificador\")#df[df.duplicated(subset=\"identificador\", keep=False)].sort_values(\"identificador\")"
   ]
  },
  {
   "cell_type": "code",
   "execution_count": 35,
   "metadata": {},
   "outputs": [],
   "source": [
    "#hacer un drop.duplicate por indentificador/href antes de empezar"
   ]
  },
  {
   "cell_type": "code",
   "execution_count": 36,
   "metadata": {},
   "outputs": [
    {
     "name": "stderr",
     "output_type": "stream",
     "text": [
      "C:\\Users\\kikeg\\AppData\\Local\\Temp\\ipykernel_15856\\1026791940.py:2: FutureWarning: Downcasting behavior in `replace` is deprecated and will be removed in a future version. To retain the old behavior, explicitly call `result.infer_objects(copy=False)`. To opt-in to the future behavior, set `pd.set_option('future.no_silent_downcasting', True)`\n",
      "  df[\"piscina\"] = df[\"piscina\"].replace({\n",
      "C:\\Users\\kikeg\\AppData\\Local\\Temp\\ipykernel_15856\\1026791940.py:2: SettingWithCopyWarning: \n",
      "A value is trying to be set on a copy of a slice from a DataFrame.\n",
      "Try using .loc[row_indexer,col_indexer] = value instead\n",
      "\n",
      "See the caveats in the documentation: https://pandas.pydata.org/pandas-docs/stable/user_guide/indexing.html#returning-a-view-versus-a-copy\n",
      "  df[\"piscina\"] = df[\"piscina\"].replace({\n",
      "C:\\Users\\kikeg\\AppData\\Local\\Temp\\ipykernel_15856\\1026791940.py:5: FutureWarning: Downcasting behavior in `replace` is deprecated and will be removed in a future version. To retain the old behavior, explicitly call `result.infer_objects(copy=False)`. To opt-in to the future behavior, set `pd.set_option('future.no_silent_downcasting', True)`\n",
      "  df[\"aire_acondicionado\"] = df[\"aire_acondicionado\"].replace({\n",
      "C:\\Users\\kikeg\\AppData\\Local\\Temp\\ipykernel_15856\\1026791940.py:5: SettingWithCopyWarning: \n",
      "A value is trying to be set on a copy of a slice from a DataFrame.\n",
      "Try using .loc[row_indexer,col_indexer] = value instead\n",
      "\n",
      "See the caveats in the documentation: https://pandas.pydata.org/pandas-docs/stable/user_guide/indexing.html#returning-a-view-versus-a-copy\n",
      "  df[\"aire_acondicionado\"] = df[\"aire_acondicionado\"].replace({\n"
     ]
    }
   ],
   "source": [
    "#df['piscina'] = df['piscina'].map({'Si': 1, 'No': 0})\n",
    "df[\"piscina\"] = df[\"piscina\"].replace({\n",
    "    \"Si\": 1, \"No\": 0, \"Sin especificar\": 0\n",
    "})\n",
    "df[\"aire_acondicionado\"] = df[\"aire_acondicionado\"].replace({\n",
    "    \"Si\": 1, \"No\": 0, \"Sin especificar\": 0\n",
    "})\n",
    "#df['aire_acondicionado'] = df['aire_acondicionado'].map({'Si': 1, 'No': 0})"
   ]
  },
  {
   "cell_type": "code",
   "execution_count": 37,
   "metadata": {},
   "outputs": [
    {
     "name": "stderr",
     "output_type": "stream",
     "text": [
      "C:\\Users\\kikeg\\AppData\\Local\\Temp\\ipykernel_15856\\585169796.py:1: SettingWithCopyWarning: \n",
      "A value is trying to be set on a copy of a slice from a DataFrame.\n",
      "Try using .loc[row_indexer,col_indexer] = value instead\n",
      "\n",
      "See the caveats in the documentation: https://pandas.pydata.org/pandas-docs/stable/user_guide/indexing.html#returning-a-view-versus-a-copy\n",
      "  df[\"latitud\"] = df[\"coordenadas\"].str.split(\",\").str[0].str.strip().astype(float, errors='ignore')\n",
      "C:\\Users\\kikeg\\AppData\\Local\\Temp\\ipykernel_15856\\585169796.py:2: SettingWithCopyWarning: \n",
      "A value is trying to be set on a copy of a slice from a DataFrame.\n",
      "Try using .loc[row_indexer,col_indexer] = value instead\n",
      "\n",
      "See the caveats in the documentation: https://pandas.pydata.org/pandas-docs/stable/user_guide/indexing.html#returning-a-view-versus-a-copy\n",
      "  df[\"longitud\"] = df[\"coordenadas\"].str.split(\",\").str[1].str.strip().astype(float, errors='ignore')\n"
     ]
    }
   ],
   "source": [
    "df[\"latitud\"] = df[\"coordenadas\"].str.split(\",\").str[0].str.strip().astype(float, errors='ignore')\n",
    "df[\"longitud\"] = df[\"coordenadas\"].str.split(\",\").str[1].str.strip().astype(float, errors='ignore')"
   ]
  },
  {
   "cell_type": "code",
   "execution_count": 38,
   "metadata": {},
   "outputs": [
    {
     "name": "stderr",
     "output_type": "stream",
     "text": [
      "C:\\Users\\kikeg\\AppData\\Local\\Temp\\ipykernel_15856\\792318552.py:1: SettingWithCopyWarning: \n",
      "A value is trying to be set on a copy of a slice from a DataFrame.\n",
      "Try using .loc[row_indexer,col_indexer] = value instead\n",
      "\n",
      "See the caveats in the documentation: https://pandas.pydata.org/pandas-docs/stable/user_guide/indexing.html#returning-a-view-versus-a-copy\n",
      "  df[\"precio_m2\"] = df[\"precio_m2\"].fillna(df[\"precio_m2\"].median())\n"
     ]
    }
   ],
   "source": [
    "df[\"precio_m2\"] = df[\"precio_m2\"].fillna(df[\"precio_m2\"].median())"
   ]
  },
  {
   "cell_type": "code",
   "execution_count": 39,
   "metadata": {},
   "outputs": [
    {
     "name": "stderr",
     "output_type": "stream",
     "text": [
      "C:\\Users\\kikeg\\AppData\\Local\\Temp\\ipykernel_15856\\2476833891.py:5: SettingWithCopyWarning: \n",
      "A value is trying to be set on a copy of a slice from a DataFrame.\n",
      "Try using .loc[row_indexer,col_indexer] = value instead\n",
      "\n",
      "See the caveats in the documentation: https://pandas.pydata.org/pandas-docs/stable/user_guide/indexing.html#returning-a-view-versus-a-copy\n",
      "  df[\"antiguedad\"] = df[\"antiguedad\"].map(antiguedad_map).fillna(20)  # Rellenar NaN con un valor intermedio\n"
     ]
    }
   ],
   "source": [
    "antiguedad_map = {\n",
    "    \"Menos de 5 años\": 2.5, \"Entre 5 y 10 años\": 7.5, \"Entre 10 y 20 años\": 15,\n",
    "    \"Entre 20 y 30 años\": 25, \"Más de 30 años\": 35\n",
    "}\n",
    "df[\"antiguedad\"] = df[\"antiguedad\"].map(antiguedad_map).fillna(20)  # Rellenar NaN con un valor intermedio"
   ]
  },
  {
   "cell_type": "code",
   "execution_count": 40,
   "metadata": {},
   "outputs": [
    {
     "name": "stderr",
     "output_type": "stream",
     "text": [
      "C:\\Users\\kikeg\\AppData\\Local\\Temp\\ipykernel_15856\\2105397662.py:2: SettingWithCopyWarning: \n",
      "A value is trying to be set on a copy of a slice from a DataFrame.\n",
      "Try using .loc[row_indexer,col_indexer] = value instead\n",
      "\n",
      "See the caveats in the documentation: https://pandas.pydata.org/pandas-docs/stable/user_guide/indexing.html#returning-a-view-versus-a-copy\n",
      "  df[\"superficie\"] = df[\"superficie\"].fillna(df[\"superficie\"].median())\n",
      "C:\\Users\\kikeg\\AppData\\Local\\Temp\\ipykernel_15856\\2105397662.py:3: SettingWithCopyWarning: \n",
      "A value is trying to be set on a copy of a slice from a DataFrame.\n",
      "Try using .loc[row_indexer,col_indexer] = value instead\n",
      "\n",
      "See the caveats in the documentation: https://pandas.pydata.org/pandas-docs/stable/user_guide/indexing.html#returning-a-view-versus-a-copy\n",
      "  df[\"superficie_util\"] = df[\"superficie_util\"].fillna(df[\"superficie_util\"].median())\n"
     ]
    }
   ],
   "source": [
    "#superficie construida tenerla que la util, me quedo la tiene menos nans\n",
    "df[\"superficie\"] = df[\"superficie\"].fillna(df[\"superficie\"].median())\n",
    "df[\"superficie_util\"] = df[\"superficie_util\"].fillna(df[\"superficie_util\"].median())"
   ]
  },
  {
   "cell_type": "code",
   "execution_count": 41,
   "metadata": {},
   "outputs": [
    {
     "name": "stderr",
     "output_type": "stream",
     "text": [
      "C:\\Users\\kikeg\\AppData\\Local\\Temp\\ipykernel_15856\\1392387436.py:1: SettingWithCopyWarning: \n",
      "A value is trying to be set on a copy of a slice from a DataFrame.\n",
      "Try using .loc[row_indexer,col_indexer] = value instead\n",
      "\n",
      "See the caveats in the documentation: https://pandas.pydata.org/pandas-docs/stable/user_guide/indexing.html#returning-a-view-versus-a-copy\n",
      "  df[\"baños\"] = df[\"baños\"].fillna(df[\"baños\"].median())\n",
      "C:\\Users\\kikeg\\AppData\\Local\\Temp\\ipykernel_15856\\1392387436.py:2: SettingWithCopyWarning: \n",
      "A value is trying to be set on a copy of a slice from a DataFrame.\n",
      "Try using .loc[row_indexer,col_indexer] = value instead\n",
      "\n",
      "See the caveats in the documentation: https://pandas.pydata.org/pandas-docs/stable/user_guide/indexing.html#returning-a-view-versus-a-copy\n",
      "  df[\"habitaciones\"] = df[\"habitaciones\"].fillna(df[\"habitaciones\"].median())\n"
     ]
    }
   ],
   "source": [
    "df[\"baños\"] = df[\"baños\"].fillna(df[\"baños\"].median())\n",
    "df[\"habitaciones\"] = df[\"habitaciones\"].fillna(df[\"habitaciones\"].median())"
   ]
  },
  {
   "cell_type": "code",
   "execution_count": 42,
   "metadata": {},
   "outputs": [
    {
     "name": "stderr",
     "output_type": "stream",
     "text": [
      "C:\\Users\\kikeg\\AppData\\Local\\Temp\\ipykernel_15856\\2568478522.py:4: SettingWithCopyWarning: \n",
      "A value is trying to be set on a copy of a slice from a DataFrame.\n",
      "Try using .loc[row_indexer,col_indexer] = value instead\n",
      "\n",
      "See the caveats in the documentation: https://pandas.pydata.org/pandas-docs/stable/user_guide/indexing.html#returning-a-view-versus-a-copy\n",
      "  df[\"conservacion\"] = df[\"conservacion\"].map(conservacion_map).fillna(2)  # Rellenar con 'En buen estado'\n"
     ]
    }
   ],
   "source": [
    "conservacion_map = {\n",
    "    \"A estrenar\": 1, \"En buen estado\": 2, \"A reformar\": 3\n",
    "}\n",
    "df[\"conservacion\"] = df[\"conservacion\"].map(conservacion_map).fillna(2)  # Rellenar con 'En buen estado'"
   ]
  },
  {
   "cell_type": "code",
   "execution_count": 43,
   "metadata": {},
   "outputs": [],
   "source": [
    "df_prueba = df.copy()\n",
    "df2 = df_prueba[[\"precio\", \"antiguedad\", \"conservacion\", \"latitud\", \"longitud\", \"piscina\", \"baños\",\"habitaciones\",\"superficie\",\"superficie_util\",\"aire_acondicionado\"]]\n",
    "\n"
   ]
  },
  {
   "cell_type": "code",
   "execution_count": 44,
   "metadata": {},
   "outputs": [
    {
     "data": {
      "text/plain": [
       "precio                0\n",
       "antiguedad            0\n",
       "conservacion          0\n",
       "latitud               0\n",
       "longitud              0\n",
       "piscina               0\n",
       "baños                 0\n",
       "habitaciones          0\n",
       "superficie            0\n",
       "superficie_util       0\n",
       "aire_acondicionado    0\n",
       "dtype: int64"
      ]
     },
     "execution_count": 44,
     "metadata": {},
     "output_type": "execute_result"
    }
   ],
   "source": [
    "nan_counts = df2.isna().sum()\n",
    "nan_counts\n"
   ]
  },
  {
   "cell_type": "code",
   "execution_count": 45,
   "metadata": {},
   "outputs": [],
   "source": [
    "scaler = StandardScaler()\n",
    "X_scaled = scaler.fit_transform(df2[[\"precio\", \"antiguedad\", \"conservacion\", \"latitud\", \"longitud\", \"piscina\", \"baños\",\"habitaciones\",\"superficie\",\"superficie_util\",\"aire_acondicionado\"]])\n"
   ]
  },
  {
   "cell_type": "code",
   "execution_count": 46,
   "metadata": {},
   "outputs": [
    {
     "data": {
      "image/png": "[encoded data removed]",
      "text/plain": [
       "<Figure size 800x500 with 1 Axes>"
      ]
     },
     "metadata": {},
     "output_type": "display_data"
    }
   ],
   "source": [
    "inertia = []\n",
    "K_range = range(2, 10)\n",
    "\n",
    "for k in K_range:\n",
    "    kmeans = KMeans(n_clusters=k, random_state=42, n_init=10)\n",
    "    kmeans.fit(X_scaled)\n",
    "    inertia.append(kmeans.inertia_)\n",
    "\n",
    "# Graficar el método del codo\n",
    "plt.figure(figsize=(8, 5))\n",
    "plt.plot(K_range, inertia, marker='o', linestyle='-')\n",
    "plt.xlabel(\"Número de clusters (K)\")\n",
    "plt.ylabel(\"Inercia\")\n",
    "plt.title(\"Método del Codo para K-Means\")\n",
    "plt.grid()\n",
    "plt.show()"
   ]
  },
  {
   "cell_type": "code",
   "execution_count": 47,
   "metadata": {},
   "outputs": [
    {
     "name": "stderr",
     "output_type": "stream",
     "text": [
      "C:\\Users\\kikeg\\AppData\\Local\\Temp\\ipykernel_15856\\296455192.py:2: SettingWithCopyWarning: \n",
      "A value is trying to be set on a copy of a slice from a DataFrame.\n",
      "Try using .loc[row_indexer,col_indexer] = value instead\n",
      "\n",
      "See the caveats in the documentation: https://pandas.pydata.org/pandas-docs/stable/user_guide/indexing.html#returning-a-view-versus-a-copy\n",
      "  df2['Cluster'] = kmeans.fit_predict(df2)\n"
     ]
    }
   ],
   "source": [
    "kmeans = KMeans(n_clusters=4, random_state=42, n_init=10)\n",
    "df2['Cluster'] = kmeans.fit_predict(df2)"
   ]
  },
  {
   "cell_type": "code",
   "execution_count": 48,
   "metadata": {},
   "outputs": [],
   "source": [
    "df2.to_csv(\"dataset_clustering_kmeans5.csv\", index=False)"
   ]
  },
  {
   "cell_type": "code",
   "execution_count": 49,
   "metadata": {},
   "outputs": [],
   "source": [
    "# Seleccionar las variables (usamos el cluster como una feature)\n",
    "X = df2.drop(columns=[\"precio\"])  # Variables predictoras (incluye \"Cluster\")\n",
    "y = df2[\"precio\"]  # Variable objetivo (precio de la vivienda)\n",
    "\n",
    "# Dividir en datos de entrenamiento y prueba\n",
    "X_train, X_test, y_train, y_test = train_test_split(X, y, test_size=0.2, random_state=42)"
   ]
  },
  {
   "cell_type": "code",
   "execution_count": null,
   "metadata": {},
   "outputs": [
    {
     "name": "stdout",
     "output_type": "stream",
     "text": [
      "Precisión del modelo: 0.89\n",
      "Precisión en entrenamiento: 0.99\n",
      "Precisión en test: 0.89\n",
      "MAE: 85191.62\n",
      "MSE: 54213654187.10\n",
      "RMSE: 232838.26\n"
     ]
    }
   ],
   "source": [
    "# Crear y entrenar el modelo\n",
    "modelo = RandomForestRegressor(n_estimators=100, random_state=42)\n",
    "modelo.fit(X_train, y_train)\n",
    "\n",
    "# Evaluar el modelo\n",
    "score = modelo.score(X_test, y_test)\n",
    "print(f\"Precisión del modelo: {score:.2f}\")\n",
    "train_score = modelo.score(X_train, y_train)\n",
    "test_score = modelo.score(X_test, y_test)\n",
    "print(f\"Precisión en entrenamiento: {train_score:.2f}\")\n",
    "print(f\"Precisión en test: {test_score:.2f}\")\n",
    "y_pred = modelo.predict(X_test)\n",
    "\n",
    "mae = mean_absolute_error(y_test, y_pred)\n",
    "mse = mean_squared_error(y_test, y_pred)\n",
    "rmse = mse ** 0.5  # Raíz del MSE\n",
    "\n",
    "print(f\"MAE: {mae:.2f}\")\n",
    "print(f\"MSE: {mse:.2f}\")\n",
    "print(f\"RMSE: {rmse:.2f}\")\n",
    "#calcular el error mediano\n",
    "#mae rmse y error mediano \n",
    "#por cadaa cluster entrenar un modelo, repartirmos por cluster y luego comprobamos por cada uno de ellos"
   ]
  },
  {
   "cell_type": "code",
   "execution_count": 51,
   "metadata": {},
   "outputs": [
    {
     "name": "stdout",
     "output_type": "stream",
     "text": [
      "Precisión del modelo base: -0.00\n"
     ]
    }
   ],
   "source": [
    "from sklearn.dummy import DummyRegressor\n",
    "dummy = DummyRegressor(strategy=\"mean\")\n",
    "dummy.fit(X_train, y_train)\n",
    "dummy_score = dummy.score(X_test, y_test)\n",
    "print(f\"Precisión del modelo base: {dummy_score:.2f}\")"
   ]
  },
  {
   "cell_type": "code",
   "execution_count": 52,
   "metadata": {},
   "outputs": [
    {
     "name": "stdout",
     "output_type": "stream",
     "text": [
      "Precisión del modelo con escalado: 0.89\n"
     ]
    }
   ],
   "source": [
    "from sklearn.preprocessing import StandardScaler\n",
    "\n",
    "scaler = StandardScaler()\n",
    "X_train_scaled = scaler.fit_transform(X_train)\n",
    "X_test_scaled = scaler.transform(X_test)\n",
    "\n",
    "modelo.fit(X_train_scaled, y_train)\n",
    "score = modelo.score(X_test_scaled, y_test)\n",
    "print(f\"Precisión del modelo con escalado: {score:.2f}\")"
   ]
  },
  {
   "cell_type": "code",
   "execution_count": 53,
   "metadata": {},
   "outputs": [
    {
     "name": "stdout",
     "output_type": "stream",
     "text": [
      "Precisión del modelo con escalado: 0.89\n"
     ]
    }
   ],
   "source": [
    "\n",
    "modelo2 = RandomForestRegressor(n_estimators=50, max_depth=10, random_state=42)\n",
    "scaler = StandardScaler()\n",
    "X_train_scaled = scaler.fit_transform(X_train)\n",
    "X_test_scaled = scaler.transform(X_test)\n",
    "\n",
    "modelo2.fit(X_train_scaled, y_train)\n",
    "score = modelo.score(X_test_scaled, y_test)\n",
    "print(f\"Precisión del modelo con escalado: {score:.2f}\")"
   ]
  },
  {
   "cell_type": "code",
   "execution_count": 54,
   "metadata": {},
   "outputs": [
    {
     "name": "stderr",
     "output_type": "stream",
     "text": [
      "C:\\Users\\kikeg\\AppData\\Local\\Packages\\PythonSoftwareFoundation.Python.3.11_qbz5n2kfra8p0\\LocalCache\\local-packages\\Python311\\site-packages\\sklearn\\utils\\validation.py:2732: UserWarning: X has feature names, but RandomForestRegressor was fitted without feature names\n",
      "  warnings.warn(\n"
     ]
    },
    {
     "name": "stdout",
     "output_type": "stream",
     "text": [
      "MAE Entrenamiento: 226320.08, MAE Test: 225117.59\n",
      "RMSE Entrenamiento: 485334.77, RMSE Test: 495920.81\n"
     ]
    },
    {
     "name": "stderr",
     "output_type": "stream",
     "text": [
      "C:\\Users\\kikeg\\AppData\\Local\\Packages\\PythonSoftwareFoundation.Python.3.11_qbz5n2kfra8p0\\LocalCache\\local-packages\\Python311\\site-packages\\sklearn\\utils\\validation.py:2732: UserWarning: X has feature names, but RandomForestRegressor was fitted without feature names\n",
      "  warnings.warn(\n"
     ]
    }
   ],
   "source": [
    "from sklearn.metrics import mean_absolute_error, mean_squared_error\n",
    "\n",
    "y_train_pred = modelo.predict(X_train)\n",
    "y_test_pred = modelo.predict(X_test)\n",
    "\n",
    "mae_train = mean_absolute_error(y_train, y_train_pred)\n",
    "mae_test = mean_absolute_error(y_test, y_test_pred)\n",
    "rmse_train = mean_squared_error(y_train, y_train_pred) ** 0.5\n",
    "rmse_test = mean_squared_error(y_test, y_test_pred) ** 0.5\n",
    "\n",
    "print(f\"MAE Entrenamiento: {mae_train:.2f}, MAE Test: {mae_test:.2f}\")\n",
    "print(f\"RMSE Entrenamiento: {rmse_train:.2f}, RMSE Test: {rmse_test:.2f}\")"
   ]
  },
  {
   "cell_type": "code",
   "execution_count": 55,
   "metadata": {},
   "outputs": [
    {
     "name": "stderr",
     "output_type": "stream",
     "text": [
      "C:\\Users\\kikeg\\AppData\\Local\\Packages\\PythonSoftwareFoundation.Python.3.11_qbz5n2kfra8p0\\LocalCache\\local-packages\\Python311\\site-packages\\sklearn\\utils\\validation.py:2739: UserWarning: X does not have valid feature names, but StandardScaler was fitted with feature names\n",
      "  warnings.warn(\n"
     ]
    },
    {
     "ename": "ValueError",
     "evalue": "X has 12 features, but StandardScaler is expecting 11 features as input.",
     "output_type": "error",
     "traceback": [
      "\u001b[1;31m---------------------------------------------------------------------------\u001b[0m",
      "\u001b[1;31mValueError\u001b[0m                                Traceback (most recent call last)",
      "Cell \u001b[1;32mIn[55], line 3\u001b[0m\n\u001b[0;32m      1\u001b[0m \u001b[38;5;28;01mimport\u001b[39;00m\u001b[38;5;250m \u001b[39m\u001b[38;5;21;01mnumpy\u001b[39;00m\u001b[38;5;250m \u001b[39m\u001b[38;5;28;01mas\u001b[39;00m\u001b[38;5;250m \u001b[39m\u001b[38;5;21;01mnp\u001b[39;00m\n\u001b[0;32m      2\u001b[0m nuevo_dato \u001b[38;5;241m=\u001b[39m np\u001b[38;5;241m.\u001b[39marray([[\u001b[38;5;241m2500\u001b[39m, \u001b[38;5;241m10\u001b[39m, \u001b[38;5;241m2\u001b[39m, \u001b[38;5;241m40.5434\u001b[39m,\u001b[38;5;241m03.0019\u001b[39m, \u001b[38;5;241m1\u001b[39m, \u001b[38;5;241m2\u001b[39m, \u001b[38;5;241m3\u001b[39m, \u001b[38;5;241m80\u001b[39m, \u001b[38;5;241m75\u001b[39m, \u001b[38;5;241m1\u001b[39m,\u001b[38;5;241m3\u001b[39m]])  \u001b[38;5;66;03m# Datos nuevos\u001b[39;00m\n\u001b[1;32m----> 3\u001b[0m nuevo_dato_escalado \u001b[38;5;241m=\u001b[39m \u001b[43mscaler\u001b[49m\u001b[38;5;241;43m.\u001b[39;49m\u001b[43mtransform\u001b[49m\u001b[43m(\u001b[49m\u001b[43mnuevo_dato\u001b[49m\u001b[43m)\u001b[49m  \u001b[38;5;66;03m# Aplicar la misma transformación\u001b[39;00m\n\u001b[0;32m      4\u001b[0m prediccion_precio \u001b[38;5;241m=\u001b[39m modelo\u001b[38;5;241m.\u001b[39mpredict(nuevo_dato_escalado)\n\u001b[0;32m      5\u001b[0m \u001b[38;5;28mprint\u001b[39m(\u001b[38;5;124mf\u001b[39m\u001b[38;5;124m\"\u001b[39m\u001b[38;5;124mPrecio estimado: \u001b[39m\u001b[38;5;132;01m{\u001b[39;00mprediccion_precio[\u001b[38;5;241m0\u001b[39m]\u001b[38;5;132;01m:\u001b[39;00m\u001b[38;5;124m,.2f\u001b[39m\u001b[38;5;132;01m}\u001b[39;00m\u001b[38;5;124m €\u001b[39m\u001b[38;5;124m\"\u001b[39m)\n",
      "File \u001b[1;32m~\\AppData\\Local\\Packages\\PythonSoftwareFoundation.Python.3.11_qbz5n2kfra8p0\\LocalCache\\local-packages\\Python311\\site-packages\\sklearn\\utils\\_set_output.py:319\u001b[0m, in \u001b[0;36m_wrap_method_output.<locals>.wrapped\u001b[1;34m(self, X, *args, **kwargs)\u001b[0m\n\u001b[0;32m    317\u001b[0m \u001b[38;5;129m@wraps\u001b[39m(f)\n\u001b[0;32m    318\u001b[0m \u001b[38;5;28;01mdef\u001b[39;00m\u001b[38;5;250m \u001b[39m\u001b[38;5;21mwrapped\u001b[39m(\u001b[38;5;28mself\u001b[39m, X, \u001b[38;5;241m*\u001b[39margs, \u001b[38;5;241m*\u001b[39m\u001b[38;5;241m*\u001b[39mkwargs):\n\u001b[1;32m--> 319\u001b[0m     data_to_wrap \u001b[38;5;241m=\u001b[39m \u001b[43mf\u001b[49m\u001b[43m(\u001b[49m\u001b[38;5;28;43mself\u001b[39;49m\u001b[43m,\u001b[49m\u001b[43m \u001b[49m\u001b[43mX\u001b[49m\u001b[43m,\u001b[49m\u001b[43m \u001b[49m\u001b[38;5;241;43m*\u001b[39;49m\u001b[43margs\u001b[49m\u001b[43m,\u001b[49m\u001b[43m \u001b[49m\u001b[38;5;241;43m*\u001b[39;49m\u001b[38;5;241;43m*\u001b[39;49m\u001b[43mkwargs\u001b[49m\u001b[43m)\u001b[49m\n\u001b[0;32m    320\u001b[0m     \u001b[38;5;28;01mif\u001b[39;00m \u001b[38;5;28misinstance\u001b[39m(data_to_wrap, \u001b[38;5;28mtuple\u001b[39m):\n\u001b[0;32m    321\u001b[0m         \u001b[38;5;66;03m# only wrap the first output for cross decomposition\u001b[39;00m\n\u001b[0;32m    322\u001b[0m         return_tuple \u001b[38;5;241m=\u001b[39m (\n\u001b[0;32m    323\u001b[0m             _wrap_data_with_container(method, data_to_wrap[\u001b[38;5;241m0\u001b[39m], X, \u001b[38;5;28mself\u001b[39m),\n\u001b[0;32m    324\u001b[0m             \u001b[38;5;241m*\u001b[39mdata_to_wrap[\u001b[38;5;241m1\u001b[39m:],\n\u001b[0;32m    325\u001b[0m         )\n",
      "File \u001b[1;32m~\\AppData\\Local\\Packages\\PythonSoftwareFoundation.Python.3.11_qbz5n2kfra8p0\\LocalCache\\local-packages\\Python311\\site-packages\\sklearn\\preprocessing\\_data.py:1062\u001b[0m, in \u001b[0;36mStandardScaler.transform\u001b[1;34m(self, X, copy)\u001b[0m\n\u001b[0;32m   1059\u001b[0m check_is_fitted(\u001b[38;5;28mself\u001b[39m)\n\u001b[0;32m   1061\u001b[0m copy \u001b[38;5;241m=\u001b[39m copy \u001b[38;5;28;01mif\u001b[39;00m copy \u001b[38;5;129;01mis\u001b[39;00m \u001b[38;5;129;01mnot\u001b[39;00m \u001b[38;5;28;01mNone\u001b[39;00m \u001b[38;5;28;01melse\u001b[39;00m \u001b[38;5;28mself\u001b[39m\u001b[38;5;241m.\u001b[39mcopy\n\u001b[1;32m-> 1062\u001b[0m X \u001b[38;5;241m=\u001b[39m \u001b[43mvalidate_data\u001b[49m\u001b[43m(\u001b[49m\n\u001b[0;32m   1063\u001b[0m \u001b[43m    \u001b[49m\u001b[38;5;28;43mself\u001b[39;49m\u001b[43m,\u001b[49m\n\u001b[0;32m   1064\u001b[0m \u001b[43m    \u001b[49m\u001b[43mX\u001b[49m\u001b[43m,\u001b[49m\n\u001b[0;32m   1065\u001b[0m \u001b[43m    \u001b[49m\u001b[43mreset\u001b[49m\u001b[38;5;241;43m=\u001b[39;49m\u001b[38;5;28;43;01mFalse\u001b[39;49;00m\u001b[43m,\u001b[49m\n\u001b[0;32m   1066\u001b[0m \u001b[43m    \u001b[49m\u001b[43maccept_sparse\u001b[49m\u001b[38;5;241;43m=\u001b[39;49m\u001b[38;5;124;43m\"\u001b[39;49m\u001b[38;5;124;43mcsr\u001b[39;49m\u001b[38;5;124;43m\"\u001b[39;49m\u001b[43m,\u001b[49m\n\u001b[0;32m   1067\u001b[0m \u001b[43m    \u001b[49m\u001b[43mcopy\u001b[49m\u001b[38;5;241;43m=\u001b[39;49m\u001b[43mcopy\u001b[49m\u001b[43m,\u001b[49m\n\u001b[0;32m   1068\u001b[0m \u001b[43m    \u001b[49m\u001b[43mdtype\u001b[49m\u001b[38;5;241;43m=\u001b[39;49m\u001b[43mFLOAT_DTYPES\u001b[49m\u001b[43m,\u001b[49m\n\u001b[0;32m   1069\u001b[0m \u001b[43m    \u001b[49m\u001b[43mforce_writeable\u001b[49m\u001b[38;5;241;43m=\u001b[39;49m\u001b[38;5;28;43;01mTrue\u001b[39;49;00m\u001b[43m,\u001b[49m\n\u001b[0;32m   1070\u001b[0m \u001b[43m    \u001b[49m\u001b[43mensure_all_finite\u001b[49m\u001b[38;5;241;43m=\u001b[39;49m\u001b[38;5;124;43m\"\u001b[39;49m\u001b[38;5;124;43mallow-nan\u001b[39;49m\u001b[38;5;124;43m\"\u001b[39;49m\u001b[43m,\u001b[49m\n\u001b[0;32m   1071\u001b[0m \u001b[43m\u001b[49m\u001b[43m)\u001b[49m\n\u001b[0;32m   1073\u001b[0m \u001b[38;5;28;01mif\u001b[39;00m sparse\u001b[38;5;241m.\u001b[39missparse(X):\n\u001b[0;32m   1074\u001b[0m     \u001b[38;5;28;01mif\u001b[39;00m \u001b[38;5;28mself\u001b[39m\u001b[38;5;241m.\u001b[39mwith_mean:\n",
      "File \u001b[1;32m~\\AppData\\Local\\Packages\\PythonSoftwareFoundation.Python.3.11_qbz5n2kfra8p0\\LocalCache\\local-packages\\Python311\\site-packages\\sklearn\\utils\\validation.py:2965\u001b[0m, in \u001b[0;36mvalidate_data\u001b[1;34m(_estimator, X, y, reset, validate_separately, skip_check_array, **check_params)\u001b[0m\n\u001b[0;32m   2962\u001b[0m     out \u001b[38;5;241m=\u001b[39m X, y\n\u001b[0;32m   2964\u001b[0m \u001b[38;5;28;01mif\u001b[39;00m \u001b[38;5;129;01mnot\u001b[39;00m no_val_X \u001b[38;5;129;01mand\u001b[39;00m check_params\u001b[38;5;241m.\u001b[39mget(\u001b[38;5;124m\"\u001b[39m\u001b[38;5;124mensure_2d\u001b[39m\u001b[38;5;124m\"\u001b[39m, \u001b[38;5;28;01mTrue\u001b[39;00m):\n\u001b[1;32m-> 2965\u001b[0m     \u001b[43m_check_n_features\u001b[49m\u001b[43m(\u001b[49m\u001b[43m_estimator\u001b[49m\u001b[43m,\u001b[49m\u001b[43m \u001b[49m\u001b[43mX\u001b[49m\u001b[43m,\u001b[49m\u001b[43m \u001b[49m\u001b[43mreset\u001b[49m\u001b[38;5;241;43m=\u001b[39;49m\u001b[43mreset\u001b[49m\u001b[43m)\u001b[49m\n\u001b[0;32m   2967\u001b[0m \u001b[38;5;28;01mreturn\u001b[39;00m out\n",
      "File \u001b[1;32m~\\AppData\\Local\\Packages\\PythonSoftwareFoundation.Python.3.11_qbz5n2kfra8p0\\LocalCache\\local-packages\\Python311\\site-packages\\sklearn\\utils\\validation.py:2829\u001b[0m, in \u001b[0;36m_check_n_features\u001b[1;34m(estimator, X, reset)\u001b[0m\n\u001b[0;32m   2826\u001b[0m     \u001b[38;5;28;01mreturn\u001b[39;00m\n\u001b[0;32m   2828\u001b[0m \u001b[38;5;28;01mif\u001b[39;00m n_features \u001b[38;5;241m!=\u001b[39m estimator\u001b[38;5;241m.\u001b[39mn_features_in_:\n\u001b[1;32m-> 2829\u001b[0m     \u001b[38;5;28;01mraise\u001b[39;00m \u001b[38;5;167;01mValueError\u001b[39;00m(\n\u001b[0;32m   2830\u001b[0m         \u001b[38;5;124mf\u001b[39m\u001b[38;5;124m\"\u001b[39m\u001b[38;5;124mX has \u001b[39m\u001b[38;5;132;01m{\u001b[39;00mn_features\u001b[38;5;132;01m}\u001b[39;00m\u001b[38;5;124m features, but \u001b[39m\u001b[38;5;132;01m{\u001b[39;00mestimator\u001b[38;5;241m.\u001b[39m\u001b[38;5;18m__class__\u001b[39m\u001b[38;5;241m.\u001b[39m\u001b[38;5;18m__name__\u001b[39m\u001b[38;5;132;01m}\u001b[39;00m\u001b[38;5;124m \u001b[39m\u001b[38;5;124m\"\u001b[39m\n\u001b[0;32m   2831\u001b[0m         \u001b[38;5;124mf\u001b[39m\u001b[38;5;124m\"\u001b[39m\u001b[38;5;124mis expecting \u001b[39m\u001b[38;5;132;01m{\u001b[39;00mestimator\u001b[38;5;241m.\u001b[39mn_features_in_\u001b[38;5;132;01m}\u001b[39;00m\u001b[38;5;124m features as input.\u001b[39m\u001b[38;5;124m\"\u001b[39m\n\u001b[0;32m   2832\u001b[0m     )\n",
      "\u001b[1;31mValueError\u001b[0m: X has 12 features, but StandardScaler is expecting 11 features as input."
     ]
    }
   ],
   "source": [
    "import numpy as np\n",
    "nuevo_dato = np.array([[2500, 10, 2, 40.5434,03.0019, 1, 2, 3, 80, 75, 1,3]])  # Datos nuevos\n",
    "nuevo_dato_escalado = scaler.transform(nuevo_dato)  # Aplicar la misma transformación\n",
    "prediccion_precio = modelo.predict(nuevo_dato_escalado)\n",
    "print(f\"Precio estimado: {prediccion_precio[0]:,.2f} €\")"
   ]
  },
  {
   "cell_type": "code",
   "execution_count": null,
   "metadata": {},
   "outputs": [],
   "source": []
  }
 ],
 "metadata": {
  "kernelspec": {
   "display_name": "Python 3 (ipykernel)",
   "language": "python",
   "name": "python3"
  },
  "language_info": {
   "codemirror_mode": {
    "name": "ipython",
    "version": 3
   },
   "file_extension": ".py",
   "mimetype": "text/x-python",
   "name": "python",
   "nbconvert_exporter": "python",
   "pygments_lexer": "ipython3",
   "version": "3.12.7"
  }
 },
 "nbformat": 4,
 "nbformat_minor": 4
}
